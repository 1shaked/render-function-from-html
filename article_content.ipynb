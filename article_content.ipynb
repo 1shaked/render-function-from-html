{
 "cells": [
  {
   "cell_type": "code",
   "execution_count": 1,
   "metadata": {},
   "outputs": [],
   "source": [
    "import requests\n",
    "from bs4 import BeautifulSoup, element\n",
    "from lxml.html import parse\n",
    "import xmltojson\n",
    "import json\n"
   ]
  },
  {
   "cell_type": "code",
   "execution_count": 2,
   "metadata": {},
   "outputs": [],
   "source": [
    "article_id :int= 492085\n",
    "url :str= f'https://www.inn.co.il/Generic/NewApi/Item?Type=0&item={article_id}'"
   ]
  },
  {
   "cell_type": "code",
   "execution_count": null,
   "metadata": {},
   "outputs": [],
   "source": []
  },
  {
   "cell_type": "code",
   "execution_count": 3,
   "metadata": {},
   "outputs": [],
   "source": [
    "respond :dict= requests.get(url).json()\n",
    "html = respond['content']"
   ]
  },
  {
   "cell_type": "code",
   "execution_count": 4,
   "metadata": {},
   "outputs": [],
   "source": [
    "soup =BeautifulSoup(html)"
   ]
  },
  {
   "cell_type": "code",
   "execution_count": 5,
   "metadata": {},
   "outputs": [],
   "source": [
    "s = soup.select('head')[0]"
   ]
  },
  {
   "cell_type": "code",
   "execution_count": 290,
   "metadata": {
    "collapsed": true
   },
   "outputs": [
    {
     "data": {
      "text/plain": [
       "<head><title>a7 item</title><style> \n",
       "\t\t\tbody {font-family:arial; direction: rtl; text-align:right;; font-size:12pt; margin:0; padding:0; } img {max-width: 100%} body > p:first-child {margin-top: 0px} iframe, video {max-width: 100%} \n",
       "\t\t\t.ytvideo {border: 0px; width:100vw; height: 56vw; margin-bottom: 10px}\n",
       "\t\t\tbody.Native .IVideo { height:53vw;position:relative;background-color: gray; overflow:hidden;}\n",
       "\t\t\tbody.Native .IVideo img.play {position:absolute;top:calc(50% - 38px);left:calc(50% - 38px);}\n",
       "\t\t\tbody.Native .IVideo img.video {width:100%;height:54vw;}\n",
       "\t\t\t.IVideo .title {color: gray; font-size:11pt; min-height: 1.3em; border-bottom: solid 1px black; display:flex;     flex-wrap: wrap;}\n",
       "\t\t\t</style><meta content=\"width=device-width,maximum-scale=1,initial-scale=1,user-scalable=no\" name=\"viewport\"/><script> function StopAudio(){ document.querySelectorAll(\"audio\").forEach(f=>f.pause())}  function ExecuteJS(url,func) {var scriptElem = document.createElement('script'); scriptElem.setAttribute('src',url+(func?'&func='+func:'')); window.document.getElementsByTagName('head')[0].appendChild(scriptElem);}</script></head>"
      ]
     },
     "execution_count": 290,
     "metadata": {},
     "output_type": "execute_result"
    }
   ],
   "source": [
    "s.extract()"
   ]
  },
  {
   "cell_type": "code",
   "execution_count": 291,
   "metadata": {
    "collapsed": true
   },
   "outputs": [
    {
     "data": {
      "text/plain": [
       "<!DOCTYPE html>\n",
       "<html><body class=\"Native\"><p></p><div><div class=\"a7video IVideo\" data-player=\"{&quot;type&quot;:3,&quot;id&quot;:2093711,&quot;title&quot;:&quot;צפו: ערן זהבי מברך 'הגומל'&quot;,&quot;url&quot;:&quot;a7radio/misc/video/21/may/VID-20210510-WA0074.mp4&quot;,&quot;image&quot;:1014138,&quot;author&quot;:&quot;&quot;,&quot;date&quot;:&quot;2021-05-10T12:23:38&quot;,&quot;credit&quot;:&quot;באדיבות המצלם&quot;}\" data-src=\"http://u.inn.co.il/media/a7radio/misc/video/21/may/VID-20210510-WA0074.mp4\" onclick=\"if(window.Android)Android.setVideo(JSON.stringify({title:'test',src:this.getAttribute('data-src')}))\">\n",
       "<img class=\"play\" src=\"http://a7.org/static/Images/objects/play.png\"/><img class=\"video\" src=\"http://a7.org/pictures/1014/1014138.jpg\"/></div></div>\n",
       "<div class=\"title\"><b style=\"display: inline-block\">צפו: ערן זהבי מברך 'הגומל'</b><span style=\"display: inline-block\"></span></div>\n",
       "<p>הכדורגלן הישראלי ערן זהבי עזב אתמול את סגל קבוצתו בהולנד ונסע אל ביתו בעקבות שוד אלים שעברו אשתו וילדיו בביתם. </p>\n",
       "<p>לפי דיווחים, השודדים היו חמושים כשאחד מהם חדר לדירה כשהוא מתחזה לשליח. המשטרה פתחה במצוד אחרי השודדים. משטרת הולנד אמרה לכאן חדשות: \"לא פוסלים מניע אנטישמי בפריצה לביתו של זהבי, אבל זה לא כיוון החקירה הראשון\". </p>\n",
       "<p>רעייתו של זהבי, שי, פרסמה תגובה ראשונה בפוסט באינסטגרם וכתבה: \"עברנו מקרה מזעזע של שוד ותקיפה במקום שאמור להיות עבורנו הכי בטוח בעולם - הבית שלנו. עברו עלינו שעות קשות ואנחנו צריכים רגע לעכל. חשוב לי לציין שלא הרימו יד על הילדים והם בסדר גמור, פיזית. נפשית אנחנו כולנו נצטרך לעבוד יחד ולעבור את זה בתקופה הטובה ביותר. אני מודה לכולם מקרב לב על הדאגה ועל הרצון לעזור. זה מחמם את הלב\". </p>\n",
       "<p></p>\n",
       "<img src=\"http://www.inn.co.il/Generic/IOS/EsiLog?type=0&amp;item=492085\" style=\"display: none\"/></body></html>"
      ]
     },
     "execution_count": 291,
     "metadata": {},
     "output_type": "execute_result"
    }
   ],
   "source": [
    "soup"
   ]
  },
  {
   "cell_type": "code",
   "execution_count": 66,
   "metadata": {},
   "outputs": [
    {
     "data": {
      "text/plain": [
       "'a7 item'"
      ]
     },
     "execution_count": 66,
     "metadata": {},
     "output_type": "execute_result"
    }
   ],
   "source": [
    "soup.title.string"
   ]
  },
  {
   "cell_type": "code",
   "execution_count": null,
   "metadata": {},
   "outputs": [],
   "source": []
  },
  {
   "cell_type": "code",
   "execution_count": 281,
   "metadata": {
    "collapsed": true
   },
   "outputs": [
    {
     "data": {
      "text/plain": [
       "'<!DOCTYPE html>\\n<html>\\n <head>\\n  <title>\\n   a7 item\\n  </title>\\n  <style>\\n   body {font-family:arial; direction: rtl; text-align:right;; font-size:12pt; margin:0; padding:0; } img {max-width: 100%} body > p:first-child {margin-top: 0px} iframe, video {max-width: 100%} \\r\\n\\t\\t\\t.ytvideo {border: 0px; width:100vw; height: 56vw; margin-bottom: 10px}\\r\\n\\t\\t\\tbody.Native .IVideo { height:53vw;position:relative;background-color: gray; overflow:hidden;}\\r\\n\\t\\t\\tbody.Native .IVideo img.play {position:absolute;top:calc(50% - 38px);left:calc(50% - 38px);}\\r\\n\\t\\t\\tbody.Native .IVideo img.video {width:100%;height:54vw;}\\r\\n\\t\\t\\t.IVideo .title {color: gray; font-size:11pt; min-height: 1.3em; border-bottom: solid 1px black; display:flex;     flex-wrap: wrap;}\\n  </style>\\n  <meta content=\"width=device-width,maximum-scale=1,initial-scale=1,user-scalable=no\" name=\"viewport\"/>\\n  <script>\\n   function StopAudio(){ document.querySelectorAll(\"audio\").forEach(f=>f.pause())}  function ExecuteJS(url,func) {var scriptElem = document.createElement(\\'script\\'); scriptElem.setAttribute(\\'src\\',url+(func?\\'&func=\\'+func:\\'\\')); window.document.getElementsByTagName(\\'head\\')[0].appendChild(scriptElem);}\\n  </script>\\n </head>\\n <body class=\"Native\">\\n  <p>\\n  </p>\\n  <div>\\n   <div class=\"a7video IVideo\" data-player=\"{&quot;type&quot;:3,&quot;id&quot;:2093711,&quot;title&quot;:&quot;צפו: ערן זהבי מברך \\'הגומל\\'&quot;,&quot;url&quot;:&quot;a7radio/misc/video/21/may/VID-20210510-WA0074.mp4&quot;,&quot;image&quot;:1014138,&quot;author&quot;:&quot;&quot;,&quot;date&quot;:&quot;2021-05-10T12:23:38&quot;,&quot;credit&quot;:&quot;באדיבות המצלם&quot;}\" data-src=\"http://u.inn.co.il/media/a7radio/misc/video/21/may/VID-20210510-WA0074.mp4\" onclick=\"if(window.Android)Android.setVideo(JSON.stringify({title:\\'test\\',src:this.getAttribute(\\'data-src\\')}))\">\\n    <img class=\"play\" src=\"http://a7.org/static/Images/objects/play.png\"/>\\n    <img class=\"video\" src=\"http://a7.org/pictures/1014/1014138.jpg\"/>\\n   </div>\\n  </div>\\n  <div class=\"title\">\\n   <b style=\"display: inline-block\">\\n    צפו: ערן זהבי מברך \\'הגומל\\'\\n   </b>\\n   <span style=\"display: inline-block\">\\n   </span>\\n  </div>\\n  <p>\\n   הכדורגלן הישראלי ערן זהבי עזב אתמול את סגל קבוצתו בהולנד ונסע אל ביתו בעקבות שוד אלים שעברו אשתו וילדיו בביתם.\\n  </p>\\n  <p>\\n   לפי דיווחים, השודדים היו חמושים כשאחד מהם חדר לדירה כשהוא מתחזה לשליח. המשטרה פתחה במצוד אחרי השודדים. משטרת הולנד אמרה לכאן חדשות: \"לא פוסלים מניע אנטישמי בפריצה לביתו של זהבי, אבל זה לא כיוון החקירה הראשון\".\\n  </p>\\n  <p>\\n   רעייתו של זהבי, שי, פרסמה תגובה ראשונה בפוסט באינסטגרם וכתבה: \"עברנו מקרה מזעזע של שוד ותקיפה במקום שאמור להיות עבורנו הכי בטוח בעולם - הבית שלנו. עברו עלינו שעות קשות ואנחנו צריכים רגע לעכל. חשוב לי לציין שלא הרימו יד על הילדים והם בסדר גמור, פיזית. נפשית אנחנו כולנו נצטרך לעבוד יחד ולעבור את זה בתקופה הטובה ביותר. אני מודה לכולם מקרב לב על הדאגה ועל הרצון לעזור. זה מחמם את הלב\".\\n  </p>\\n  <p>\\n  </p>\\n  <img src=\"http://www.inn.co.il/Generic/IOS/EsiLog?type=0&amp;item=492085\" style=\"display: none\"/>\\n </body>\\n</html>'"
      ]
     },
     "execution_count": 281,
     "metadata": {},
     "output_type": "execute_result"
    }
   ],
   "source": [
    "soup.prettify(formatter='html')"
   ]
  },
  {
   "cell_type": "code",
   "execution_count": null,
   "metadata": {},
   "outputs": [],
   "source": []
  },
  {
   "cell_type": "code",
   "execution_count": null,
   "metadata": {},
   "outputs": [],
   "source": []
  },
  {
   "cell_type": "code",
   "execution_count": null,
   "metadata": {},
   "outputs": [],
   "source": []
  },
  {
   "cell_type": "code",
   "execution_count": 67,
   "metadata": {
    "collapsed": true
   },
   "outputs": [
    {
     "data": {
      "text/plain": [
       "'a7 item \\r\\n\\t\\t\\tbody {font-family:arial; direction: rtl; text-align:right;; font-size:12pt; margin:0; padding:0; } img {max-width: 100%} body > p:first-child {margin-top: 0px} iframe, video {max-width: 100%} \\r\\n\\t\\t\\t.ytvideo {border: 0px; width:100vw; height: 56vw; margin-bottom: 10px}\\r\\n\\t\\t\\tbody.Native .IVideo { height:53vw;position:relative;background-color: gray; overflow:hidden;}\\r\\n\\t\\t\\tbody.Native .IVideo img.play {position:absolute;top:calc(50% - 38px);left:calc(50% - 38px);}\\r\\n\\t\\t\\tbody.Native .IVideo img.video {width:100%;height:54vw;}\\r\\n\\t\\t\\t.IVideo .title {color: gray; font-size:11pt; min-height: 1.3em; border-bottom: solid 1px black; display:flex;     flex-wrap: wrap;}\\r\\n\\t\\t\\t function StopAudio(){ document.querySelectorAll(\"audio\").forEach(f=>f.pause())}  function ExecuteJS(url,func) {var scriptElem = document.createElement(\\'script\\'); scriptElem.setAttribute(\\'src\\',url+(func?\\'&func=\\'+func:\\'\\')); window.document.getElementsByTagName(\\'head\\')[0].appendChild(scriptElem);}\\n\\nצפו: ערן זהבי מברך \\'הגומל\\'\\nהכדורגלן הישראלי ערן זהבי עזב אתמול את סגל קבוצתו בהולנד ונסע אל ביתו בעקבות שוד אלים שעברו אשתו וילדיו בביתם. \\nלפי דיווחים, השודדים היו חמושים כשאחד מהם חדר לדירה כשהוא מתחזה לשליח. המשטרה פתחה במצוד אחרי השודדים. משטרת הולנד אמרה לכאן חדשות: \"לא פוסלים מניע אנטישמי בפריצה לביתו של זהבי, אבל זה לא כיוון החקירה הראשון\". \\nרעייתו של זהבי, שי, פרסמה תגובה ראשונה בפוסט באינסטגרם וכתבה: \"עברנו מקרה מזעזע של שוד ותקיפה במקום שאמור להיות עבורנו הכי בטוח בעולם - הבית שלנו. עברו עלינו שעות קשות ואנחנו צריכים רגע לעכל. חשוב לי לציין שלא הרימו יד על הילדים והם בסדר גמור, פיזית. נפשית אנחנו כולנו נצטרך לעבוד יחד ולעבור את זה בתקופה הטובה ביותר. אני מודה לכולם מקרב לב על הדאגה ועל הרצון לעזור. זה מחמם את הלב\". \\n\\n'"
      ]
     },
     "execution_count": 67,
     "metadata": {},
     "output_type": "execute_result"
    }
   ],
   "source": [
    "soup.get_text()"
   ]
  },
  {
   "cell_type": "code",
   "execution_count": 68,
   "metadata": {},
   "outputs": [],
   "source": [
    "content = soup.body.contents"
   ]
  },
  {
   "cell_type": "code",
   "execution_count": 69,
   "metadata": {},
   "outputs": [
    {
     "data": {
      "text/plain": [
       "bs4.element.NavigableString"
      ]
     },
     "execution_count": 69,
     "metadata": {},
     "output_type": "execute_result"
    }
   ],
   "source": [
    "type(content[1].contents[0].contents[0])"
   ]
  },
  {
   "cell_type": "code",
   "execution_count": 70,
   "metadata": {},
   "outputs": [
    {
     "data": {
      "text/plain": [
       "bs4.element.Tag"
      ]
     },
     "execution_count": 70,
     "metadata": {},
     "output_type": "execute_result"
    }
   ],
   "source": [
    "type(content[1].contents[0].contents[1])"
   ]
  },
  {
   "cell_type": "code",
   "execution_count": 71,
   "metadata": {},
   "outputs": [],
   "source": [
    "t = content[1].contents[0].contents[0]"
   ]
  },
  {
   "cell_type": "code",
   "execution_count": 72,
   "metadata": {},
   "outputs": [
    {
     "data": {
      "text/plain": [
       "<function NavigableString.format>"
      ]
     },
     "execution_count": 72,
     "metadata": {},
     "output_type": "execute_result"
    }
   ],
   "source": [
    "t.format"
   ]
  },
  {
   "cell_type": "code",
   "execution_count": 107,
   "metadata": {},
   "outputs": [
    {
     "name": "stdout",
     "output_type": "stream",
     "text": [
      "<p></p>\n",
      "<div><div class=\"a7video IVideo\" data-player=\"{&quot;type&quot;:3,&quot;id&quot;:2093711,&quot;title&quot;:&quot;צפו: ערן זהבי מברך 'הגומל'&quot;,&quot;url&quot;:&quot;a7radio/misc/video/21/may/VID-20210510-WA0074.mp4&quot;,&quot;image&quot;:1014138,&quot;author&quot;:&quot;&quot;,&quot;date&quot;:&quot;2021-05-10T12:23:38&quot;,&quot;credit&quot;:&quot;באדיבות המצלם&quot;}\" data-src=\"http://u.inn.co.il/media/a7radio/misc/video/21/may/VID-20210510-WA0074.mp4\" onclick=\"if(window.Android)Android.setVideo(JSON.stringify({title:'test',src:this.getAttribute('data-src')}))\">\n",
      "<img class=\"play\" src=\"http://a7.org/static/Images/objects/play.png\"/><img class=\"video\" src=\"http://a7.org/pictures/1014/1014138.jpg\"/></div></div>\n",
      "\n",
      "\n"
     ]
    }
   ],
   "source": [
    "count = 0\n",
    "for c in soup.body.children:\n",
    "    print(c)\n",
    "    if count > 1:\n",
    "        break\n",
    "    count += 1"
   ]
  },
  {
   "cell_type": "code",
   "execution_count": 74,
   "metadata": {},
   "outputs": [
    {
     "data": {
      "text/plain": [
       "''"
      ]
     },
     "execution_count": 74,
     "metadata": {},
     "output_type": "execute_result"
    }
   ],
   "source": [
    "list(soup.body.children)[0].text"
   ]
  },
  {
   "cell_type": "code",
   "execution_count": 7,
   "metadata": {},
   "outputs": [],
   "source": [
    "html_c = '''\n",
    "<body>    \n",
    "    <div>text and <p> here is p </p> with more</div>\n",
    "</body>\n",
    "'''\n",
    "\n",
    "html_s = BeautifulSoup(html_c)\n",
    "# json_ = xmltojson.parse(html_c)"
   ]
  },
  {
   "cell_type": "code",
   "execution_count": 8,
   "metadata": {},
   "outputs": [],
   "source": [
    "body = html_s.body"
   ]
  },
  {
   "cell_type": "code",
   "execution_count": 9,
   "metadata": {},
   "outputs": [
    {
     "ename": "IndexError",
     "evalue": "list index out of range",
     "output_type": "error",
     "traceback": [
      "\u001b[1;31m---------------------------------------------------------------------------\u001b[0m",
      "\u001b[1;31mIndexError\u001b[0m                                Traceback (most recent call last)",
      "\u001b[1;32m<ipython-input-9-a962f30587de>\u001b[0m in \u001b[0;36m<module>\u001b[1;34m\u001b[0m\n\u001b[1;32m----> 1\u001b[1;33m \u001b[0mbody\u001b[0m\u001b[1;33m.\u001b[0m\u001b[0mcontents\u001b[0m\u001b[1;33m[\u001b[0m\u001b[1;36m1\u001b[0m\u001b[1;33m]\u001b[0m\u001b[1;33m.\u001b[0m\u001b[0mcontents\u001b[0m\u001b[1;33m[\u001b[0m\u001b[1;36m1\u001b[0m\u001b[1;33m]\u001b[0m\u001b[1;33m.\u001b[0m\u001b[0mcontents\u001b[0m\u001b[1;33m[\u001b[0m\u001b[1;36m1\u001b[0m\u001b[1;33m]\u001b[0m\u001b[1;33m.\u001b[0m\u001b[0mcontents\u001b[0m\u001b[1;33m\u001b[0m\u001b[1;33m\u001b[0m\u001b[0m\n\u001b[0m",
      "\u001b[1;31mIndexError\u001b[0m: list index out of range"
     ]
    }
   ],
   "source": [
    "body.contents[1].contents[1].contents[1].contents"
   ]
  },
  {
   "cell_type": "code",
   "execution_count": 10,
   "metadata": {},
   "outputs": [
    {
     "ename": "IndexError",
     "evalue": "list index out of range",
     "output_type": "error",
     "traceback": [
      "\u001b[1;31m---------------------------------------------------------------------------\u001b[0m",
      "\u001b[1;31mIndexError\u001b[0m                                Traceback (most recent call last)",
      "\u001b[1;32m<ipython-input-10-aec6009ef664>\u001b[0m in \u001b[0;36m<module>\u001b[1;34m\u001b[0m\n\u001b[1;32m----> 1\u001b[1;33m \u001b[0mbody\u001b[0m\u001b[1;33m.\u001b[0m\u001b[0mcontents\u001b[0m\u001b[1;33m[\u001b[0m\u001b[1;36m1\u001b[0m\u001b[1;33m]\u001b[0m\u001b[1;33m.\u001b[0m\u001b[0mcontents\u001b[0m\u001b[1;33m[\u001b[0m\u001b[1;36m5\u001b[0m\u001b[1;33m]\u001b[0m\u001b[1;33m.\u001b[0m\u001b[0mcontents\u001b[0m\u001b[1;33m[\u001b[0m\u001b[1;36m1\u001b[0m\u001b[1;33m]\u001b[0m\u001b[1;33m\u001b[0m\u001b[1;33m\u001b[0m\u001b[0m\n\u001b[0m",
      "\u001b[1;31mIndexError\u001b[0m: list index out of range"
     ]
    }
   ],
   "source": [
    "body.contents[1].contents[5].contents[1]"
   ]
  },
  {
   "cell_type": "code",
   "execution_count": 11,
   "metadata": {},
   "outputs": [
    {
     "ename": "IndexError",
     "evalue": "list index out of range",
     "output_type": "error",
     "traceback": [
      "\u001b[1;31m---------------------------------------------------------------------------\u001b[0m",
      "\u001b[1;31mIndexError\u001b[0m                                Traceback (most recent call last)",
      "\u001b[1;32m<ipython-input-11-7193d8e8de56>\u001b[0m in \u001b[0;36m<module>\u001b[1;34m\u001b[0m\n\u001b[1;32m----> 1\u001b[1;33m \u001b[0me\u001b[0m \u001b[1;33m=\u001b[0m \u001b[0mbody\u001b[0m\u001b[1;33m.\u001b[0m\u001b[0mcontents\u001b[0m\u001b[1;33m[\u001b[0m\u001b[1;36m1\u001b[0m\u001b[1;33m]\u001b[0m\u001b[1;33m.\u001b[0m\u001b[0mcontents\u001b[0m\u001b[1;33m[\u001b[0m\u001b[1;36m3\u001b[0m\u001b[1;33m]\u001b[0m\u001b[1;33m.\u001b[0m\u001b[0mcontents\u001b[0m\u001b[1;33m[\u001b[0m\u001b[1;36m1\u001b[0m\u001b[1;33m]\u001b[0m\u001b[1;33m.\u001b[0m\u001b[0mcontents\u001b[0m\u001b[1;33m[\u001b[0m\u001b[1;36m1\u001b[0m\u001b[1;33m]\u001b[0m\u001b[1;33m.\u001b[0m\u001b[0mcontents\u001b[0m\u001b[1;33m[\u001b[0m\u001b[1;36m0\u001b[0m\u001b[1;33m]\u001b[0m\u001b[1;33m\u001b[0m\u001b[1;33m\u001b[0m\u001b[0m\n\u001b[0m",
      "\u001b[1;31mIndexError\u001b[0m: list index out of range"
     ]
    }
   ],
   "source": [
    "e = body.contents[1].contents[3].contents[1].contents[1].contents[0]"
   ]
  },
  {
   "cell_type": "code",
   "execution_count": 12,
   "metadata": {},
   "outputs": [],
   "source": [
    "def getContent(body, path):\n",
    "    if type(body) == str:\n",
    "        return body\n",
    "    else:\n",
    "        if(len(body.contents) > 0):\n",
    "            for el in body.contents:\n",
    "                getContent(el)"
   ]
  },
  {
   "cell_type": "code",
   "execution_count": 13,
   "metadata": {},
   "outputs": [
    {
     "ename": "SyntaxError",
     "evalue": "invalid syntax (<ipython-input-13-642bf57063d1>, line 2)",
     "output_type": "error",
     "traceback": [
      "\u001b[1;36m  File \u001b[1;32m\"<ipython-input-13-642bf57063d1>\"\u001b[1;36m, line \u001b[1;32m2\u001b[0m\n\u001b[1;33m    while el.con\u001b[0m\n\u001b[1;37m                ^\u001b[0m\n\u001b[1;31mSyntaxError\u001b[0m\u001b[1;31m:\u001b[0m invalid syntax\n"
     ]
    }
   ],
   "source": [
    "for el in body:\n",
    "    while el.con"
   ]
  },
  {
   "cell_type": "code",
   "execution_count": 14,
   "metadata": {},
   "outputs": [
    {
     "ename": "NameError",
     "evalue": "name 'e' is not defined",
     "output_type": "error",
     "traceback": [
      "\u001b[1;31m---------------------------------------------------------------------------\u001b[0m",
      "\u001b[1;31mNameError\u001b[0m                                 Traceback (most recent call last)",
      "\u001b[1;32m<ipython-input-14-a4fdf7cf6eac>\u001b[0m in \u001b[0;36m<module>\u001b[1;34m\u001b[0m\n\u001b[1;32m----> 1\u001b[1;33m \u001b[0mp\u001b[0m \u001b[1;33m=\u001b[0m \u001b[0mlist\u001b[0m\u001b[1;33m(\u001b[0m\u001b[0me\u001b[0m\u001b[1;33m.\u001b[0m\u001b[0mparents\u001b[0m\u001b[1;33m)\u001b[0m\u001b[1;33m[\u001b[0m\u001b[1;33m-\u001b[0m\u001b[1;36m3\u001b[0m\u001b[1;33m]\u001b[0m\u001b[1;33m\u001b[0m\u001b[1;33m\u001b[0m\u001b[0m\n\u001b[0m",
      "\u001b[1;31mNameError\u001b[0m: name 'e' is not defined"
     ]
    }
   ],
   "source": [
    "p = list(e.parents)[-3]"
   ]
  },
  {
   "cell_type": "code",
   "execution_count": 15,
   "metadata": {},
   "outputs": [
    {
     "ename": "NameError",
     "evalue": "name 'e' is not defined",
     "output_type": "error",
     "traceback": [
      "\u001b[1;31m---------------------------------------------------------------------------\u001b[0m",
      "\u001b[1;31mNameError\u001b[0m                                 Traceback (most recent call last)",
      "\u001b[1;32m<ipython-input-15-ca1eaeee28b8>\u001b[0m in \u001b[0;36m<module>\u001b[1;34m\u001b[0m\n\u001b[1;32m----> 1\u001b[1;33m \u001b[0me\u001b[0m\u001b[1;33m.\u001b[0m\u001b[0mparent\u001b[0m\u001b[1;33m.\u001b[0m\u001b[0mname\u001b[0m\u001b[1;33m\u001b[0m\u001b[1;33m\u001b[0m\u001b[0m\n\u001b[0m",
      "\u001b[1;31mNameError\u001b[0m: name 'e' is not defined"
     ]
    }
   ],
   "source": [
    "e.parent.name"
   ]
  },
  {
   "cell_type": "code",
   "execution_count": 16,
   "metadata": {},
   "outputs": [],
   "source": [
    "path = { 'content': [] }\n",
    "content = []"
   ]
  },
  {
   "cell_type": "code",
   "execution_count": 17,
   "metadata": {},
   "outputs": [
    {
     "name": "stdout",
     "output_type": "stream",
     "text": [
      "\n",
      "\n",
      "<div>text and <p> here is p </p> with more</div>\n",
      "\n",
      "\n"
     ]
    }
   ],
   "source": [
    "for el in body.contents:\n",
    "    print(el)\n",
    "    if type(el) == element.Tag:\n",
    "        pass\n",
    "    "
   ]
  },
  {
   "cell_type": "code",
   "execution_count": 18,
   "metadata": {},
   "outputs": [],
   "source": [
    "def pushToArray(elemnts, content = []):\n",
    "    if type(elemnts) == element.NavigableString:\n",
    "        content.append(elemnts.string)\n",
    "    for el in elemnts.contents:\n",
    "        if type(el) == element.NavigableString:\n",
    "            print(elemnts)\n",
    "            content.append(elemnts.string)\n",
    "        elif type(el) == element.Tag:\n",
    "            content.append(pushToArray(el))\n",
    "    return content"
   ]
  },
  {
   "cell_type": "code",
   "execution_count": 19,
   "metadata": {},
   "outputs": [
    {
     "data": {
      "text/plain": [
       "bs4.element.NavigableString"
      ]
     },
     "execution_count": 19,
     "metadata": {},
     "output_type": "execute_result"
    }
   ],
   "source": [
    "type(el)"
   ]
  },
  {
   "cell_type": "code",
   "execution_count": 20,
   "metadata": {
    "scrolled": true
   },
   "outputs": [
    {
     "name": "stdout",
     "output_type": "stream",
     "text": [
      "\n",
      "\n",
      "text and \n",
      " here is p \n",
      " with more\n",
      "\n",
      "\n",
      "\n",
      "\n"
     ]
    }
   ],
   "source": [
    "def pushToArray(elemnts, content = []):\n",
    "    if len(content) == 3:\n",
    "        print(content, \"THE PROBLOME IS HERE\")\n",
    "    if type(elemnts) == element.NavigableString:\n",
    "        content.append(elemnts.string)\n",
    "    for el in elemnts.contents:\n",
    "        if type(el) == element.NavigableString:\n",
    "            print(el)\n",
    "            content.append(el.string)\n",
    "        elif type(el) == element.Tag:\n",
    "            content.append(pushToArray(el))\n",
    "    return content\n",
    "\n",
    "contnet = pushToArray(html_s)"
   ]
  },
  {
   "cell_type": "code",
   "execution_count": 21,
   "metadata": {},
   "outputs": [
    {
     "data": {
      "text/plain": [
       "<div>text and <p> here is p </p> with more</div>"
      ]
     },
     "execution_count": 21,
     "metadata": {},
     "output_type": "execute_result"
    }
   ],
   "source": [
    "html_s.contents[0].contents[0].contents[1]"
   ]
  },
  {
   "cell_type": "code",
   "execution_count": 22,
   "metadata": {},
   "outputs": [
    {
     "data": {
      "text/plain": [
       "bs4.element.NavigableString"
      ]
     },
     "execution_count": 22,
     "metadata": {},
     "output_type": "execute_result"
    }
   ],
   "source": [
    "type(html_s.contents[0].contents[0].contents[1].contents[1].contents[0])"
   ]
  },
  {
   "cell_type": "code",
   "execution_count": 23,
   "metadata": {},
   "outputs": [
    {
     "ename": "NameError",
     "evalue": "name 'json_' is not defined",
     "output_type": "error",
     "traceback": [
      "\u001b[1;31m---------------------------------------------------------------------------\u001b[0m",
      "\u001b[1;31mNameError\u001b[0m                                 Traceback (most recent call last)",
      "\u001b[1;32m<ipython-input-23-e169bac9040a>\u001b[0m in \u001b[0;36m<module>\u001b[1;34m\u001b[0m\n\u001b[1;32m----> 1\u001b[1;33m \u001b[0mres\u001b[0m \u001b[1;33m=\u001b[0m \u001b[0mjson\u001b[0m\u001b[1;33m.\u001b[0m\u001b[0mloads\u001b[0m\u001b[1;33m(\u001b[0m\u001b[0mjson_\u001b[0m\u001b[1;33m)\u001b[0m\u001b[1;33m\u001b[0m\u001b[1;33m\u001b[0m\u001b[0m\n\u001b[0m",
      "\u001b[1;31mNameError\u001b[0m: name 'json_' is not defined"
     ]
    }
   ],
   "source": [
    "res = json.loads(json_)"
   ]
  },
  {
   "cell_type": "code",
   "execution_count": 24,
   "metadata": {},
   "outputs": [
    {
     "ename": "NameError",
     "evalue": "name 'res' is not defined",
     "output_type": "error",
     "traceback": [
      "\u001b[1;31m---------------------------------------------------------------------------\u001b[0m",
      "\u001b[1;31mNameError\u001b[0m                                 Traceback (most recent call last)",
      "\u001b[1;32m<ipython-input-24-6785a2ba46c4>\u001b[0m in \u001b[0;36m<module>\u001b[1;34m\u001b[0m\n\u001b[1;32m----> 1\u001b[1;33m \u001b[0mjson_stinrg_res\u001b[0m \u001b[1;33m:\u001b[0m\u001b[0mstr\u001b[0m\u001b[1;33m=\u001b[0m \u001b[0mjson\u001b[0m\u001b[1;33m.\u001b[0m\u001b[0mdumps\u001b[0m\u001b[1;33m(\u001b[0m\u001b[0mres\u001b[0m\u001b[1;33m,\u001b[0m \u001b[0mindent\u001b[0m\u001b[1;33m=\u001b[0m\u001b[1;36m4\u001b[0m\u001b[1;33m,\u001b[0m \u001b[0mensure_ascii\u001b[0m\u001b[1;33m=\u001b[0m\u001b[1;32mFalse\u001b[0m\u001b[1;33m)\u001b[0m\u001b[1;33m\u001b[0m\u001b[1;33m\u001b[0m\u001b[0m\n\u001b[0m\u001b[0;32m      2\u001b[0m \u001b[1;32mwith\u001b[0m \u001b[0mopen\u001b[0m\u001b[1;33m(\u001b[0m\u001b[1;34m'res_string.json'\u001b[0m\u001b[1;33m,\u001b[0m \u001b[0mmode\u001b[0m\u001b[1;33m=\u001b[0m\u001b[1;34m'w'\u001b[0m\u001b[1;33m,\u001b[0m \u001b[0mencoding\u001b[0m\u001b[1;33m=\u001b[0m\u001b[1;34m'utf8'\u001b[0m\u001b[1;33m)\u001b[0m \u001b[1;32mas\u001b[0m \u001b[0mf\u001b[0m\u001b[1;33m:\u001b[0m\u001b[1;33m\u001b[0m\u001b[1;33m\u001b[0m\u001b[0m\n\u001b[0;32m      3\u001b[0m     \u001b[0mf\u001b[0m\u001b[1;33m.\u001b[0m\u001b[0mwrite\u001b[0m\u001b[1;33m(\u001b[0m\u001b[0mjson_stinrg_res\u001b[0m\u001b[1;33m)\u001b[0m\u001b[1;33m\u001b[0m\u001b[1;33m\u001b[0m\u001b[0m\n\u001b[0;32m      4\u001b[0m \u001b[1;33m\u001b[0m\u001b[0m\n",
      "\u001b[1;31mNameError\u001b[0m: name 'res' is not defined"
     ]
    }
   ],
   "source": [
    "json_stinrg_res :str= json.dumps(res, indent=4, ensure_ascii=False)\n",
    "with open('res_string.json', mode='w', encoding='utf8') as f:\n",
    "    f.write(json_stinrg_res)\n",
    "    "
   ]
  },
  {
   "cell_type": "code",
   "execution_count": 25,
   "metadata": {},
   "outputs": [
    {
     "ename": "NameError",
     "evalue": "name 'res' is not defined",
     "output_type": "error",
     "traceback": [
      "\u001b[1;31m---------------------------------------------------------------------------\u001b[0m",
      "\u001b[1;31mNameError\u001b[0m                                 Traceback (most recent call last)",
      "\u001b[1;32m<ipython-input-25-dbf1b95c4baf>\u001b[0m in \u001b[0;36m<module>\u001b[1;34m\u001b[0m\n\u001b[1;32m----> 1\u001b[1;33m \u001b[0mres\u001b[0m\u001b[1;33m[\u001b[0m\u001b[1;34m'html'\u001b[0m\u001b[1;33m]\u001b[0m\u001b[1;33m[\u001b[0m\u001b[1;34m'body'\u001b[0m\u001b[1;33m]\u001b[0m\u001b[1;33m[\u001b[0m\u001b[1;34m'div'\u001b[0m\u001b[1;33m]\u001b[0m\u001b[1;33m[\u001b[0m\u001b[1;34m'p'\u001b[0m\u001b[1;33m]\u001b[0m\u001b[1;33m[\u001b[0m\u001b[1;36m1\u001b[0m\u001b[1;33m]\u001b[0m\u001b[1;33m\u001b[0m\u001b[1;33m\u001b[0m\u001b[0m\n\u001b[0m",
      "\u001b[1;31mNameError\u001b[0m: name 'res' is not defined"
     ]
    }
   ],
   "source": [
    "\n",
    "res['html']['body']['div']['p'][1]"
   ]
  },
  {
   "cell_type": "code",
   "execution_count": 26,
   "metadata": {},
   "outputs": [],
   "source": [
    "for c in content[1::]:\n",
    "    print(c)\n",
    "    break"
   ]
  },
  {
   "cell_type": "code",
   "execution_count": 27,
   "metadata": {},
   "outputs": [],
   "source": [
    "html_s\n",
    "\n",
    "tags_to_delete = ['head', 'style','script']\n",
    "    \n",
    "for tag in tags_to_delete:\n",
    "    els = html_s.select(tag)\n",
    "    for el in els:\n",
    "        el.extract()"
   ]
  },
  {
   "cell_type": "code",
   "execution_count": 28,
   "metadata": {},
   "outputs": [],
   "source": [
    "for viedos in html_s.find_all(\"div\", class_=\"a7video IVideo\"): # [0].contents\n",
    "    for img in viedos:\n",
    "        if type(img) == element.Tag:\n",
    "            if img.attrs['class'] != 'video':\n",
    "                img.extract()\n",
    "        elif type(img) == element.NavigableString:\n",
    "            img.extract()"
   ]
  },
  {
   "cell_type": "code",
   "execution_count": 29,
   "metadata": {},
   "outputs": [
    {
     "ename": "IndexError",
     "evalue": "list index out of range",
     "output_type": "error",
     "traceback": [
      "\u001b[1;31m---------------------------------------------------------------------------\u001b[0m",
      "\u001b[1;31mIndexError\u001b[0m                                Traceback (most recent call last)",
      "\u001b[1;32m<ipython-input-29-8924ef8a6ad2>\u001b[0m in \u001b[0;36m<module>\u001b[1;34m\u001b[0m\n\u001b[1;32m----> 1\u001b[1;33m \u001b[0mhtml_s\u001b[0m\u001b[1;33m.\u001b[0m\u001b[0mfind_all\u001b[0m\u001b[1;33m(\u001b[0m\u001b[1;34m\"div\"\u001b[0m\u001b[1;33m,\u001b[0m \u001b[0mclass_\u001b[0m\u001b[1;33m=\u001b[0m\u001b[1;34m\"a7video IVideo\"\u001b[0m\u001b[1;33m)\u001b[0m\u001b[1;33m[\u001b[0m\u001b[1;36m0\u001b[0m\u001b[1;33m]\u001b[0m\u001b[1;33m.\u001b[0m\u001b[0mname\u001b[0m \u001b[1;33m=\u001b[0m \u001b[1;34m'youtube-component'\u001b[0m\u001b[1;33m\u001b[0m\u001b[1;33m\u001b[0m\u001b[0m\n\u001b[0m",
      "\u001b[1;31mIndexError\u001b[0m: list index out of range"
     ]
    }
   ],
   "source": [
    "html_s.find_all(\"div\", class_=\"a7video IVideo\")[0].name = 'youtube-component'"
   ]
  },
  {
   "cell_type": "code",
   "execution_count": 30,
   "metadata": {},
   "outputs": [],
   "source": [
    "for img in html_s.select('img'):\n",
    "    if ('style' in img.attrs):\n",
    "        if 'display: none' in img.attrs['style']:\n",
    "            img.extract()"
   ]
  },
  {
   "cell_type": "code",
   "execution_count": 31,
   "metadata": {},
   "outputs": [],
   "source": [
    "REMOVE_ATTRIBUTES = ['lang','language','onmouseover','onmouseout','script','style','font', 'onclick', 'data-player']"
   ]
  },
  {
   "cell_type": "code",
   "execution_count": 32,
   "metadata": {},
   "outputs": [],
   "source": [
    "for tag in html_s.recursiveChildGenerator():\n",
    "    try:\n",
    "        if (element.Tag):\n",
    "            for tag_to_remove in REMOVE_ATTRIBUTES:\n",
    "                if tag_to_remove in tag.attrs:\n",
    "                    del tag[tag_to_remove]\n",
    "            # tag.attrs = [(key,value) for key,value in tag.attrs if key not in REMOVE_ATTRIBUTES]\n",
    "    except AttributeError: \n",
    "        # 'NavigableString' object has no attribute 'attrs'\n",
    "        pass"
   ]
  },
  {
   "cell_type": "code",
   "execution_count": 33,
   "metadata": {},
   "outputs": [
    {
     "data": {
      "text/plain": [
       "<html><body>\n",
       "<div>text and <p> here is p </p> with more</div>\n",
       "</body>\n",
       "</html>"
      ]
     },
     "execution_count": 33,
     "metadata": {},
     "output_type": "execute_result"
    }
   ],
   "source": [
    "html_s.html"
   ]
  },
  {
   "cell_type": "code",
   "execution_count": 34,
   "metadata": {},
   "outputs": [
    {
     "data": {
      "text/plain": [
       "['text and ', <p> here is p </p>, ' with more']"
      ]
     },
     "execution_count": 34,
     "metadata": {},
     "output_type": "execute_result"
    }
   ],
   "source": [
    "list(html_s.body.contents[1].children)"
   ]
  },
  {
   "cell_type": "code",
   "execution_count": 35,
   "metadata": {},
   "outputs": [
    {
     "ename": "NameError",
     "evalue": "name 'res' is not defined",
     "output_type": "error",
     "traceback": [
      "\u001b[1;31m---------------------------------------------------------------------------\u001b[0m",
      "\u001b[1;31mNameError\u001b[0m                                 Traceback (most recent call last)",
      "\u001b[1;32m<ipython-input-35-c08785e04264>\u001b[0m in \u001b[0;36m<module>\u001b[1;34m\u001b[0m\n\u001b[1;32m----> 1\u001b[1;33m \u001b[0mres\u001b[0m\u001b[1;33m\u001b[0m\u001b[1;33m\u001b[0m\u001b[0m\n\u001b[0m",
      "\u001b[1;31mNameError\u001b[0m: name 'res' is not defined"
     ]
    }
   ],
   "source": [
    "res"
   ]
  },
  {
   "cell_type": "code",
   "execution_count": 36,
   "metadata": {},
   "outputs": [
    {
     "ename": "IndexError",
     "evalue": "list index out of range",
     "output_type": "error",
     "traceback": [
      "\u001b[1;31m---------------------------------------------------------------------------\u001b[0m",
      "\u001b[1;31mIndexError\u001b[0m                                Traceback (most recent call last)",
      "\u001b[1;32m<ipython-input-36-d5821496ba05>\u001b[0m in \u001b[0;36m<module>\u001b[1;34m\u001b[0m\n\u001b[1;32m----> 1\u001b[1;33m \u001b[0mlist\u001b[0m\u001b[1;33m(\u001b[0m\u001b[0mlist\u001b[0m\u001b[1;33m(\u001b[0m\u001b[0mhtml_s\u001b[0m\u001b[1;33m.\u001b[0m\u001b[0mbody\u001b[0m\u001b[1;33m.\u001b[0m\u001b[0mchildren\u001b[0m\u001b[1;33m)\u001b[0m\u001b[1;33m[\u001b[0m\u001b[1;36m1\u001b[0m\u001b[1;33m]\u001b[0m\u001b[1;33m.\u001b[0m\u001b[0mchildren\u001b[0m\u001b[1;33m)\u001b[0m\u001b[1;33m[\u001b[0m\u001b[1;36m3\u001b[0m\u001b[1;33m]\u001b[0m\u001b[1;33m\u001b[0m\u001b[1;33m\u001b[0m\u001b[0m\n\u001b[0m",
      "\u001b[1;31mIndexError\u001b[0m: list index out of range"
     ]
    }
   ],
   "source": [
    "list(list(html_s.body.children)[1].children)[3]"
   ]
  },
  {
   "cell_type": "code",
   "execution_count": 37,
   "metadata": {},
   "outputs": [
    {
     "ename": "IndexError",
     "evalue": "list index out of range",
     "output_type": "error",
     "traceback": [
      "\u001b[1;31m---------------------------------------------------------------------------\u001b[0m",
      "\u001b[1;31mIndexError\u001b[0m                                Traceback (most recent call last)",
      "\u001b[1;32m<ipython-input-37-77fdbd715c00>\u001b[0m in \u001b[0;36m<module>\u001b[1;34m\u001b[0m\n\u001b[1;32m----> 1\u001b[1;33m \u001b[0mlist\u001b[0m\u001b[1;33m(\u001b[0m\u001b[0mlist\u001b[0m\u001b[1;33m(\u001b[0m\u001b[0mlist\u001b[0m\u001b[1;33m(\u001b[0m\u001b[0mhtml_s\u001b[0m\u001b[1;33m.\u001b[0m\u001b[0mbody\u001b[0m\u001b[1;33m.\u001b[0m\u001b[0mchildren\u001b[0m\u001b[1;33m)\u001b[0m\u001b[1;33m[\u001b[0m\u001b[1;36m1\u001b[0m\u001b[1;33m]\u001b[0m\u001b[1;33m.\u001b[0m\u001b[0mchildren\u001b[0m\u001b[1;33m)\u001b[0m\u001b[1;33m[\u001b[0m\u001b[1;36m8\u001b[0m\u001b[1;33m]\u001b[0m\u001b[1;33m.\u001b[0m\u001b[0mchildren\u001b[0m\u001b[1;33m)\u001b[0m\u001b[1;33m\u001b[0m\u001b[1;33m\u001b[0m\u001b[0m\n\u001b[0m",
      "\u001b[1;31mIndexError\u001b[0m: list index out of range"
     ]
    }
   ],
   "source": [
    "list(list(list(html_s.body.children)[1].children)[8].children)"
   ]
  },
  {
   "cell_type": "code",
   "execution_count": 38,
   "metadata": {},
   "outputs": [
    {
     "ename": "IndexError",
     "evalue": "list index out of range",
     "output_type": "error",
     "traceback": [
      "\u001b[1;31m---------------------------------------------------------------------------\u001b[0m",
      "\u001b[1;31mIndexError\u001b[0m                                Traceback (most recent call last)",
      "\u001b[1;32m<ipython-input-38-4553d2c8b84c>\u001b[0m in \u001b[0;36m<module>\u001b[1;34m\u001b[0m\n\u001b[1;32m----> 1\u001b[1;33m \u001b[0mlist\u001b[0m\u001b[1;33m(\u001b[0m\u001b[0mlist\u001b[0m\u001b[1;33m(\u001b[0m\u001b[0mhtml_s\u001b[0m\u001b[1;33m.\u001b[0m\u001b[0mbody\u001b[0m\u001b[1;33m.\u001b[0m\u001b[0mchildren\u001b[0m\u001b[1;33m)\u001b[0m\u001b[1;33m[\u001b[0m\u001b[1;36m1\u001b[0m\u001b[1;33m]\u001b[0m\u001b[1;33m.\u001b[0m\u001b[0mchildren\u001b[0m\u001b[1;33m)\u001b[0m\u001b[1;33m[\u001b[0m\u001b[1;36m8\u001b[0m\u001b[1;33m]\u001b[0m\u001b[1;33m\u001b[0m\u001b[1;33m\u001b[0m\u001b[0m\n\u001b[0m",
      "\u001b[1;31mIndexError\u001b[0m: list index out of range"
     ]
    }
   ],
   "source": [
    "list(list(html_s.body.children)[1].children)[8]"
   ]
  },
  {
   "cell_type": "code",
   "execution_count": 39,
   "metadata": {},
   "outputs": [
    {
     "ename": "IndexError",
     "evalue": "list index out of range",
     "output_type": "error",
     "traceback": [
      "\u001b[1;31m---------------------------------------------------------------------------\u001b[0m",
      "\u001b[1;31mIndexError\u001b[0m                                Traceback (most recent call last)",
      "\u001b[1;32m<ipython-input-39-796ee6522508>\u001b[0m in \u001b[0;36m<module>\u001b[1;34m\u001b[0m\n\u001b[1;32m----> 1\u001b[1;33m \u001b[0mlist\u001b[0m\u001b[1;33m(\u001b[0m\u001b[0mlist\u001b[0m\u001b[1;33m(\u001b[0m\u001b[0mlist\u001b[0m\u001b[1;33m(\u001b[0m\u001b[0mhtml_s\u001b[0m\u001b[1;33m.\u001b[0m\u001b[0mbody\u001b[0m\u001b[1;33m.\u001b[0m\u001b[0mdescendants\u001b[0m\u001b[1;33m)\u001b[0m\u001b[1;33m[\u001b[0m\u001b[1;36m1\u001b[0m\u001b[1;33m]\u001b[0m\u001b[1;33m.\u001b[0m\u001b[0mdescendants\u001b[0m\u001b[1;33m)\u001b[0m\u001b[1;33m[\u001b[0m\u001b[1;36m9\u001b[0m\u001b[1;33m]\u001b[0m\u001b[1;33m.\u001b[0m\u001b[0mdescendants\u001b[0m\u001b[1;33m)\u001b[0m\u001b[1;33m\u001b[0m\u001b[1;33m\u001b[0m\u001b[0m\n\u001b[0m",
      "\u001b[1;31mIndexError\u001b[0m: list index out of range"
     ]
    }
   ],
   "source": [
    "list(list(list(html_s.body.descendants)[1].descendants)[9].descendants)"
   ]
  },
  {
   "cell_type": "code",
   "execution_count": 40,
   "metadata": {},
   "outputs": [],
   "source": [
    "with open('test.html', mode='w', encoding='utf8') as f:\n",
    "    f.write(html)"
   ]
  },
  {
   "cell_type": "code",
   "execution_count": 41,
   "metadata": {},
   "outputs": [
    {
     "ename": "ExpatError",
     "evalue": "not well-formed (invalid token): line 15, column 330",
     "output_type": "error",
     "traceback": [
      "\u001b[1;31m---------------------------------------------------------------------------\u001b[0m",
      "\u001b[1;31mExpatError\u001b[0m                                Traceback (most recent call last)",
      "\u001b[1;32m<ipython-input-41-d69428b678c7>\u001b[0m in \u001b[0;36m<module>\u001b[1;34m\u001b[0m\n\u001b[0;32m      1\u001b[0m \u001b[1;32mwith\u001b[0m \u001b[0mopen\u001b[0m\u001b[1;33m(\u001b[0m\u001b[1;34m'test.html'\u001b[0m\u001b[1;33m,\u001b[0m \u001b[0mencoding\u001b[0m\u001b[1;33m=\u001b[0m\u001b[1;34m'utf8'\u001b[0m\u001b[1;33m)\u001b[0m \u001b[1;32mas\u001b[0m \u001b[0mf\u001b[0m\u001b[1;33m:\u001b[0m\u001b[1;33m\u001b[0m\u001b[1;33m\u001b[0m\u001b[0m\n\u001b[0;32m      2\u001b[0m     \u001b[0mres\u001b[0m \u001b[1;33m=\u001b[0m \u001b[0mf\u001b[0m\u001b[1;33m.\u001b[0m\u001b[0mread\u001b[0m\u001b[1;33m(\u001b[0m\u001b[1;33m)\u001b[0m\u001b[1;33m\u001b[0m\u001b[1;33m\u001b[0m\u001b[0m\n\u001b[1;32m----> 3\u001b[1;33m     \u001b[0mjson_\u001b[0m \u001b[1;33m=\u001b[0m \u001b[0mxmltojson\u001b[0m\u001b[1;33m.\u001b[0m\u001b[0mparse\u001b[0m\u001b[1;33m(\u001b[0m\u001b[0mres\u001b[0m\u001b[1;33m)\u001b[0m\u001b[1;33m\u001b[0m\u001b[1;33m\u001b[0m\u001b[0m\n\u001b[0m",
      "\u001b[1;32m~\\Anaconda3\\lib\\site-packages\\xmltojson.py\u001b[0m in \u001b[0;36mparse\u001b[1;34m(xml_string)\u001b[0m\n\u001b[0;32m     83\u001b[0m     \u001b[0mTakes\u001b[0m \u001b[0man\u001b[0m \u001b[0mxml\u001b[0m \u001b[0mstring\u001b[0m \u001b[1;32mand\u001b[0m \u001b[0mreturns\u001b[0m \u001b[0mthe\u001b[0m \u001b[0mjson\u001b[0m \u001b[0mequivalent\u001b[0m\u001b[1;33m\u001b[0m\u001b[1;33m\u001b[0m\u001b[0m\n\u001b[0;32m     84\u001b[0m     \"\"\"\n\u001b[1;32m---> 85\u001b[1;33m     \u001b[1;32mreturn\u001b[0m \u001b[0mjson\u001b[0m\u001b[1;33m.\u001b[0m\u001b[0mdumps\u001b[0m\u001b[1;33m(\u001b[0m\u001b[0mxmltodict\u001b[0m\u001b[1;33m.\u001b[0m\u001b[0mparse\u001b[0m\u001b[1;33m(\u001b[0m\u001b[0mxml_string\u001b[0m\u001b[1;33m)\u001b[0m\u001b[1;33m)\u001b[0m\u001b[1;33m\u001b[0m\u001b[1;33m\u001b[0m\u001b[0m\n\u001b[0m\u001b[0;32m     86\u001b[0m \u001b[1;33m\u001b[0m\u001b[0m\n",
      "\u001b[1;32m~\\Anaconda3\\lib\\site-packages\\xmltodict.py\u001b[0m in \u001b[0;36mparse\u001b[1;34m(xml_input, encoding, expat, process_namespaces, namespace_separator, disable_entities, **kwargs)\u001b[0m\n\u001b[0;32m    325\u001b[0m         \u001b[0mparser\u001b[0m\u001b[1;33m.\u001b[0m\u001b[0mParseFile\u001b[0m\u001b[1;33m(\u001b[0m\u001b[0mxml_input\u001b[0m\u001b[1;33m)\u001b[0m\u001b[1;33m\u001b[0m\u001b[1;33m\u001b[0m\u001b[0m\n\u001b[0;32m    326\u001b[0m     \u001b[1;32melse\u001b[0m\u001b[1;33m:\u001b[0m\u001b[1;33m\u001b[0m\u001b[1;33m\u001b[0m\u001b[0m\n\u001b[1;32m--> 327\u001b[1;33m         \u001b[0mparser\u001b[0m\u001b[1;33m.\u001b[0m\u001b[0mParse\u001b[0m\u001b[1;33m(\u001b[0m\u001b[0mxml_input\u001b[0m\u001b[1;33m,\u001b[0m \u001b[1;32mTrue\u001b[0m\u001b[1;33m)\u001b[0m\u001b[1;33m\u001b[0m\u001b[1;33m\u001b[0m\u001b[0m\n\u001b[0m\u001b[0;32m    328\u001b[0m     \u001b[1;32mreturn\u001b[0m \u001b[0mhandler\u001b[0m\u001b[1;33m.\u001b[0m\u001b[0mitem\u001b[0m\u001b[1;33m\u001b[0m\u001b[1;33m\u001b[0m\u001b[0m\n\u001b[0;32m    329\u001b[0m \u001b[1;33m\u001b[0m\u001b[0m\n",
      "\u001b[1;31mExpatError\u001b[0m: not well-formed (invalid token): line 15, column 330"
     ]
    }
   ],
   "source": [
    "with open('test.html', encoding='utf8') as f:\n",
    "    res = f.read()\n",
    "    json_ = xmltojson.parse(res) "
   ]
  },
  {
   "cell_type": "code",
   "execution_count": 42,
   "metadata": {},
   "outputs": [
    {
     "data": {
      "text/plain": [
       "'<!DOCTYPE html><html><head><title>a7 item</title><style> \\n\\n\\t\\t\\tbody {font-family:arial; direction: rtl; text-align:right;; font-size:12pt; margin:0; padding:0; } img {max-width: 100%} body > p:first-child {margin-top: 0px} iframe, video {max-width: 100%} \\n\\n\\t\\t\\t.ytvideo {border: 0px; width:100vw; height: 56vw; margin-bottom: 10px}\\n\\n\\t\\t\\tbody.Native .IVideo { height:53vw;position:relative;background-color: gray; overflow:hidden;}\\n\\n\\t\\t\\tbody.Native .IVideo img.play {position:absolute;top:calc(50% - 38px);left:calc(50% - 38px);}\\n\\n\\t\\t\\tbody.Native .IVideo img.video {width:100%;height:54vw;}\\n\\n\\t\\t\\t.IVideo .title {color: gray; font-size:11pt; min-height: 1.3em; border-bottom: solid 1px black; display:flex;     flex-wrap: wrap;}\\n\\n\\t\\t\\t</style><meta name=\\'viewport\\' content=\\'width=device-width,maximum-scale=1,initial-scale=1,user-scalable=no\\' /><script> function StopAudio(){ document.querySelectorAll(\"audio\").forEach(f=>f.pause())}  function ExecuteJS(url,func) {var scriptElem = document.createElement(\\'script\\'); scriptElem.setAttribute(\\'src\\',url+(func?\\'&func=\\'+func:\\'\\')); window.document.getElementsByTagName(\\'head\\')[0].appendChild(scriptElem);}</script></head><body class=Native><p><div><div class=\\'a7video IVideo\\'    data-player=\"{&quot;type&quot;:3,&quot;id&quot;:2093711,&quot;title&quot;:&quot;צפו: ערן זהבי מברך \\'הגומל\\'&quot;,&quot;url&quot;:&quot;a7radio/misc/video/21/may/VID-20210510-WA0074.mp4&quot;,&quot;image&quot;:1014138,&quot;author&quot;:&quot;&quot;,&quot;date&quot;:&quot;2021-05-10T12:23:38&quot;,&quot;credit&quot;:&quot;באדיבות המצלם&quot;}\" onclick=\"if(window.Android)Android.setVideo(JSON.stringify({title:\\'test\\',src:this.getAttribute(\\'data-src\\')}))\"  data-src=\\'http://u.inn.co.il/media/a7radio/misc/video/21/may/VID-20210510-WA0074.mp4\\'>\\n\\n\\t\\t\\t<img class=play src=http://a7.org/static/Images/objects/play.png><img class=video  src=\\'http://a7.org/pictures/1014/1014138.jpg\\'></div></div>\\n\\n\\t\\t\\t<div class=title><b style=\\'display: inline-block\\'>צפו: ערן זהבי מברך \\'הגומל\\'</b><span style=\\'display: inline-block\\'></span></div></p>\\n\\n<p>הכדורגלן הישראלי ערן זהבי עזב אתמול את סגל קבוצתו בהולנד ונסע אל ביתו בעקבות שוד אלים שעברו אשתו וילדיו בביתם. </p>\\n\\n<p>לפי דיווחים, השודדים היו חמושים כשאחד מהם חדר לדירה כשהוא מתחזה לשליח. המשטרה פתחה במצוד אחרי השודדים. משטרת הולנד אמרה לכאן חדשות: &quot;לא פוסלים מניע אנטישמי בפריצה לביתו של זהבי, אבל זה לא כיוון החקירה הראשון&quot;. </p>\\n\\n<p>רעייתו של זהבי, שי, פרסמה תגובה ראשונה בפוסט באינסטגרם וכתבה: &quot;עברנו מקרה מזעזע של שוד ותקיפה במקום שאמור להיות עבורנו הכי בטוח בעולם - הבית שלנו. עברו עלינו שעות קשות ואנחנו צריכים רגע לעכל. חשוב לי לציין שלא הרימו יד על הילדים והם בסדר גמור, פיזית. נפשית אנחנו כולנו נצטרך לעבוד יחד ולעבור את זה בתקופה הטובה ביותר. אני מודה לכולם מקרב לב על הדאגה ועל הרצון לעזור. זה מחמם את הלב&quot;. </p>\\n\\n<p></p>\\n<img style=\\'display: none\\' src=\"http://www.inn.co.il/Generic/IOS/EsiLog?type=0&amp;item=492085\" /></body></html>'"
      ]
     },
     "execution_count": 42,
     "metadata": {},
     "output_type": "execute_result"
    }
   ],
   "source": [
    "res"
   ]
  },
  {
   "cell_type": "code",
   "execution_count": 43,
   "metadata": {},
   "outputs": [
    {
     "data": {
      "text/plain": [
       "<!DOCTYPE html>\n",
       "<html><head><title>a7 item</title><style> \n",
       "\n",
       "\t\t\tbody {font-family:arial; direction: rtl; text-align:right;; font-size:12pt; margin:0; padding:0; } img {max-width: 100%} body > p:first-child {margin-top: 0px} iframe, video {max-width: 100%} \n",
       "\n",
       "\t\t\t.ytvideo {border: 0px; width:100vw; height: 56vw; margin-bottom: 10px}\n",
       "\n",
       "\t\t\tbody.Native .IVideo { height:53vw;position:relative;background-color: gray; overflow:hidden;}\n",
       "\n",
       "\t\t\tbody.Native .IVideo img.play {position:absolute;top:calc(50% - 38px);left:calc(50% - 38px);}\n",
       "\n",
       "\t\t\tbody.Native .IVideo img.video {width:100%;height:54vw;}\n",
       "\n",
       "\t\t\t.IVideo .title {color: gray; font-size:11pt; min-height: 1.3em; border-bottom: solid 1px black; display:flex;     flex-wrap: wrap;}\n",
       "\n",
       "\t\t\t</style><meta content=\"width=device-width,maximum-scale=1,initial-scale=1,user-scalable=no\" name=\"viewport\"/><script> function StopAudio(){ document.querySelectorAll(\"audio\").forEach(f=>f.pause())}  function ExecuteJS(url,func) {var scriptElem = document.createElement('script'); scriptElem.setAttribute('src',url+(func?'&func='+func:'')); window.document.getElementsByTagName('head')[0].appendChild(scriptElem);}</script></head><body class=\"Native\"><p></p><div><div class=\"a7video IVideo\" data-player=\"{&quot;type&quot;:3,&quot;id&quot;:2093711,&quot;title&quot;:&quot;צפו: ערן זהבי מברך 'הגומל'&quot;,&quot;url&quot;:&quot;a7radio/misc/video/21/may/VID-20210510-WA0074.mp4&quot;,&quot;image&quot;:1014138,&quot;author&quot;:&quot;&quot;,&quot;date&quot;:&quot;2021-05-10T12:23:38&quot;,&quot;credit&quot;:&quot;באדיבות המצלם&quot;}\" data-src=\"http://u.inn.co.il/media/a7radio/misc/video/21/may/VID-20210510-WA0074.mp4\" onclick=\"if(window.Android)Android.setVideo(JSON.stringify({title:'test',src:this.getAttribute('data-src')}))\">\n",
       "<img class=\"play\" src=\"http://a7.org/static/Images/objects/play.png\"/><img class=\"video\" src=\"http://a7.org/pictures/1014/1014138.jpg\"/></div></div>\n",
       "<div class=\"title\"><b style=\"display: inline-block\">צפו: ערן זהבי מברך 'הגומל'</b><span style=\"display: inline-block\"></span></div>\n",
       "<p>הכדורגלן הישראלי ערן זהבי עזב אתמול את סגל קבוצתו בהולנד ונסע אל ביתו בעקבות שוד אלים שעברו אשתו וילדיו בביתם. </p>\n",
       "<p>לפי דיווחים, השודדים היו חמושים כשאחד מהם חדר לדירה כשהוא מתחזה לשליח. המשטרה פתחה במצוד אחרי השודדים. משטרת הולנד אמרה לכאן חדשות: \"לא פוסלים מניע אנטישמי בפריצה לביתו של זהבי, אבל זה לא כיוון החקירה הראשון\". </p>\n",
       "<p>רעייתו של זהבי, שי, פרסמה תגובה ראשונה בפוסט באינסטגרם וכתבה: \"עברנו מקרה מזעזע של שוד ותקיפה במקום שאמור להיות עבורנו הכי בטוח בעולם - הבית שלנו. עברו עלינו שעות קשות ואנחנו צריכים רגע לעכל. חשוב לי לציין שלא הרימו יד על הילדים והם בסדר גמור, פיזית. נפשית אנחנו כולנו נצטרך לעבוד יחד ולעבור את זה בתקופה הטובה ביותר. אני מודה לכולם מקרב לב על הדאגה ועל הרצון לעזור. זה מחמם את הלב\". </p>\n",
       "<p></p>\n",
       "<img src=\"http://www.inn.co.il/Generic/IOS/EsiLog?type=0&amp;item=492085\" style=\"display: none\"/></body></html>"
      ]
     },
     "execution_count": 43,
     "metadata": {},
     "output_type": "execute_result"
    }
   ],
   "source": [
    "BeautifulSoup(res)\n"
   ]
  },
  {
   "cell_type": "code",
   "execution_count": null,
   "metadata": {},
   "outputs": [],
   "source": []
  },
  {
   "cell_type": "code",
   "execution_count": null,
   "metadata": {},
   "outputs": [],
   "source": []
  },
  {
   "cell_type": "code",
   "execution_count": null,
   "metadata": {},
   "outputs": [],
   "source": []
  },
  {
   "cell_type": "code",
   "execution_count": 44,
   "metadata": {},
   "outputs": [],
   "source": [
    "d  =dict(k = '0' , x = '2' ,a = '3')"
   ]
  },
  {
   "cell_type": "code",
   "execution_count": 45,
   "metadata": {},
   "outputs": [
    {
     "name": "stdout",
     "output_type": "stream",
     "text": [
      "k 0\n",
      "x 2\n",
      "a 3\n"
     ]
    }
   ],
   "source": [
    "for (k , v) in d.items():\n",
    "    print(k , v)"
   ]
  },
  {
   "cell_type": "code",
   "execution_count": 46,
   "metadata": {},
   "outputs": [
    {
     "ename": "ValueError",
     "evalue": "not enough values to unpack (expected 2, got 1)",
     "output_type": "error",
     "traceback": [
      "\u001b[1;31m---------------------------------------------------------------------------\u001b[0m",
      "\u001b[1;31mValueError\u001b[0m                                Traceback (most recent call last)",
      "\u001b[1;32m<ipython-input-46-74fefaa6c1b4>\u001b[0m in \u001b[0;36m<module>\u001b[1;34m\u001b[0m\n\u001b[1;32m----> 1\u001b[1;33m \u001b[1;32mfor\u001b[0m \u001b[1;33m(\u001b[0m\u001b[0mi\u001b[0m\u001b[1;33m,\u001b[0m \u001b[0mn\u001b[0m\u001b[1;33m)\u001b[0m \u001b[1;32min\u001b[0m \u001b[0md\u001b[0m\u001b[1;33m:\u001b[0m\u001b[1;33m\u001b[0m\u001b[1;33m\u001b[0m\u001b[0m\n\u001b[0m\u001b[0;32m      2\u001b[0m     \u001b[0mprint\u001b[0m\u001b[1;33m(\u001b[0m\u001b[0mi\u001b[0m\u001b[1;33m,\u001b[0m \u001b[0mn\u001b[0m\u001b[1;33m)\u001b[0m\u001b[1;33m\u001b[0m\u001b[1;33m\u001b[0m\u001b[0m\n",
      "\u001b[1;31mValueError\u001b[0m: not enough values to unpack (expected 2, got 1)"
     ]
    }
   ],
   "source": [
    "for (i, n) in d:\n",
    "    print(i, n)"
   ]
  },
  {
   "cell_type": "code",
   "execution_count": 47,
   "metadata": {},
   "outputs": [
    {
     "data": {
      "text/plain": [
       "True"
      ]
     },
     "execution_count": 47,
     "metadata": {},
     "output_type": "execute_result"
    }
   ],
   "source": [
    "type(d) == dict"
   ]
  },
  {
   "cell_type": "code",
   "execution_count": 48,
   "metadata": {},
   "outputs": [],
   "source": [
    "a = [1 , 3 , '3']"
   ]
  },
  {
   "cell_type": "code",
   "execution_count": 49,
   "metadata": {},
   "outputs": [
    {
     "data": {
      "text/plain": [
       "True"
      ]
     },
     "execution_count": 49,
     "metadata": {},
     "output_type": "execute_result"
    }
   ],
   "source": [
    "type(a) == list"
   ]
  },
  {
   "cell_type": "code",
   "execution_count": 50,
   "metadata": {},
   "outputs": [
    {
     "data": {
      "text/plain": [
       "<function list.index(value, start=0, stop=9223372036854775807, /)>"
      ]
     },
     "execution_count": 50,
     "metadata": {},
     "output_type": "execute_result"
    }
   ],
   "source": [
    "a.index"
   ]
  },
  {
   "cell_type": "code",
   "execution_count": 51,
   "metadata": {},
   "outputs": [],
   "source": [
    "c = [1]"
   ]
  },
  {
   "cell_type": "code",
   "execution_count": 52,
   "metadata": {},
   "outputs": [
    {
     "data": {
      "text/plain": [
       "True"
      ]
     },
     "execution_count": 52,
     "metadata": {},
     "output_type": "execute_result"
    }
   ],
   "source": [
    "len(c) > 0"
   ]
  },
  {
   "cell_type": "code",
   "execution_count": null,
   "metadata": {},
   "outputs": [],
   "source": []
  },
  {
   "cell_type": "code",
   "execution_count": 314,
   "metadata": {},
   "outputs": [],
   "source": [
    "with open('test.json', encoding='utf8') as f:\n",
    "    r = f.read()"
   ]
  },
  {
   "cell_type": "code",
   "execution_count": 315,
   "metadata": {},
   "outputs": [],
   "source": [
    "json_obj = json.loads(r)"
   ]
  },
  {
   "cell_type": "code",
   "execution_count": 319,
   "metadata": {},
   "outputs": [
    {
     "name": "stdout",
     "output_type": "stream",
     "text": [
      "body\n"
     ]
    }
   ],
   "source": [
    "for k in json_obj:\n",
    "    for x in json_obj[k]:\n",
    "        print(x)"
   ]
  },
  {
   "cell_type": "code",
   "execution_count": 328,
   "metadata": {},
   "outputs": [],
   "source": [
    "\n",
    "def deleteRecursive(body, p):\n",
    "    for key_or_el in body:\n",
    "        if type(body) == dict:\n",
    "            value = body[key_or_el]\n",
    "            \n",
    "            if (key_or_el == 'img'):\n",
    "                p['XXX'] = body[key_or_el]\n",
    "            \n",
    "            if type(value) == dict:\n",
    "                # for (k , v) in p:  if v == body:\n",
    "                print(key_or_el , json.dumps(body, indent=4 , ensure_ascii=False), p)\n",
    "                print('-------------------------------------------------------------')\n",
    "                deleteRecursive(value , body)\n",
    "        if type(body) == list:\n",
    "            pass"
   ]
  },
  {
   "cell_type": "code",
   "execution_count": 329,
   "metadata": {
    "collapsed": true
   },
   "outputs": [
    {
     "name": "stdout",
     "output_type": "stream",
     "text": [
      "html {\n",
      "    \"html\": {\n",
      "        \"body\": {\n",
      "            \"@class\": \"Native\",\n",
      "            \"p\": [\n",
      "                {\n",
      "                    \"div\": [\n",
      "                        {\n",
      "                            \"div\": {\n",
      "                                \"@class\": \"a7video IVideo\",\n",
      "                                \"@data-player\": \"{\\\"type\\\":3,\\\"id\\\":2093711,\\\"title\\\":\\\"צפו: ערן זהבי מברך 'הגומל'\\\",\\\"url\\\":\\\"a7radio/misc/video/21/may/VID-20210510-WA0074.mp4\\\",\\\"image\\\":1014138,\\\"author\\\":\\\"\\\",\\\"date\\\":\\\"2021-05-10T12:23:38\\\",\\\"credit\\\":\\\"באדיבות המצלם\\\"}\",\n",
      "                                \"@data-src\": \"http://u.inn.co.il/media/a7radio/misc/video/21/may/VID-20210510-WA0074.mp4\",\n",
      "                                \"@onclick\": \"if(window.Android)Android.setVideo(JSON.stringify({title:'test',src:this.getAttribute('data-src')}))\",\n",
      "                                \"img\": [\n",
      "                                    {\n",
      "                                        \"@class\": \"play\",\n",
      "                                        \"@src\": \"http://a7.org/static/Images/objects/play.png\"\n",
      "                                    },\n",
      "                                    {\n",
      "                                        \"@class\": \"video\",\n",
      "                                        \"@src\": \"http://a7.org/pictures/1014/1014138.jpg\"\n",
      "                                    }\n",
      "                                ]\n",
      "                            }\n",
      "                        },\n",
      "                        {\n",
      "                            \"@class\": \"title\",\n",
      "                            \"b\": {\n",
      "                                \"@style\": \"display: inline-block\",\n",
      "                                \"#text\": \"צפו: ערן זהבי מברך 'הגומל'\"\n",
      "                            },\n",
      "                            \"span\": {\n",
      "                                \"@style\": \"display: inline-block\"\n",
      "                            }\n",
      "                        }\n",
      "                    ]\n",
      "                },\n",
      "                \"הכדורגלן הישראלי ערן זהבי עזב אתמול את סגל קבוצתו בהולנד ונסע אל ביתו בעקבות שוד אלים שעברו אשתו וילדיו בביתם.\",\n",
      "                \"לפי דיווחים, השודדים היו חמושים כשאחד מהם חדר לדירה כשהוא מתחזה לשליח. המשטרה פתחה במצוד אחרי השודדים. משטרת הולנד אמרה לכאן חדשות: \\\"לא פוסלים מניע אנטישמי בפריצה לביתו של זהבי, אבל זה לא כיוון החקירה הראשון\\\".\",\n",
      "                \"רעייתו של זהבי, שי, פרסמה תגובה ראשונה בפוסט באינסטגרם וכתבה: \\\"עברנו מקרה מזעזע של שוד ותקיפה במקום שאמור להיות עבורנו הכי בטוח בעולם - הבית שלנו. עברו עלינו שעות קשות ואנחנו צריכים רגע לעכל. חשוב לי לציין שלא הרימו יד על הילדים והם בסדר גמור, פיזית. נפשית אנחנו כולנו נצטרך לעבוד יחד ולעבור את זה בתקופה הטובה ביותר. אני מודה לכולם מקרב לב על הדאגה ועל הרצון לעזור. זה מחמם את הלב\\\".\",\n",
      "                null\n",
      "            ],\n",
      "            \"img\": {\n",
      "                \"@src\": \"http://www.inn.co.il/Generic/IOS/EsiLog?type=0&item=492085\",\n",
      "                \"@style\": \"display: none\"\n",
      "            }\n",
      "        }\n",
      "    }\n",
      "} None\n",
      "-------------------------------------------------------------\n",
      "body {\n",
      "    \"body\": {\n",
      "        \"@class\": \"Native\",\n",
      "        \"p\": [\n",
      "            {\n",
      "                \"div\": [\n",
      "                    {\n",
      "                        \"div\": {\n",
      "                            \"@class\": \"a7video IVideo\",\n",
      "                            \"@data-player\": \"{\\\"type\\\":3,\\\"id\\\":2093711,\\\"title\\\":\\\"צפו: ערן זהבי מברך 'הגומל'\\\",\\\"url\\\":\\\"a7radio/misc/video/21/may/VID-20210510-WA0074.mp4\\\",\\\"image\\\":1014138,\\\"author\\\":\\\"\\\",\\\"date\\\":\\\"2021-05-10T12:23:38\\\",\\\"credit\\\":\\\"באדיבות המצלם\\\"}\",\n",
      "                            \"@data-src\": \"http://u.inn.co.il/media/a7radio/misc/video/21/may/VID-20210510-WA0074.mp4\",\n",
      "                            \"@onclick\": \"if(window.Android)Android.setVideo(JSON.stringify({title:'test',src:this.getAttribute('data-src')}))\",\n",
      "                            \"img\": [\n",
      "                                {\n",
      "                                    \"@class\": \"play\",\n",
      "                                    \"@src\": \"http://a7.org/static/Images/objects/play.png\"\n",
      "                                },\n",
      "                                {\n",
      "                                    \"@class\": \"video\",\n",
      "                                    \"@src\": \"http://a7.org/pictures/1014/1014138.jpg\"\n",
      "                                }\n",
      "                            ]\n",
      "                        }\n",
      "                    },\n",
      "                    {\n",
      "                        \"@class\": \"title\",\n",
      "                        \"b\": {\n",
      "                            \"@style\": \"display: inline-block\",\n",
      "                            \"#text\": \"צפו: ערן זהבי מברך 'הגומל'\"\n",
      "                        },\n",
      "                        \"span\": {\n",
      "                            \"@style\": \"display: inline-block\"\n",
      "                        }\n",
      "                    }\n",
      "                ]\n",
      "            },\n",
      "            \"הכדורגלן הישראלי ערן זהבי עזב אתמול את סגל קבוצתו בהולנד ונסע אל ביתו בעקבות שוד אלים שעברו אשתו וילדיו בביתם.\",\n",
      "            \"לפי דיווחים, השודדים היו חמושים כשאחד מהם חדר לדירה כשהוא מתחזה לשליח. המשטרה פתחה במצוד אחרי השודדים. משטרת הולנד אמרה לכאן חדשות: \\\"לא פוסלים מניע אנטישמי בפריצה לביתו של זהבי, אבל זה לא כיוון החקירה הראשון\\\".\",\n",
      "            \"רעייתו של זהבי, שי, פרסמה תגובה ראשונה בפוסט באינסטגרם וכתבה: \\\"עברנו מקרה מזעזע של שוד ותקיפה במקום שאמור להיות עבורנו הכי בטוח בעולם - הבית שלנו. עברו עלינו שעות קשות ואנחנו צריכים רגע לעכל. חשוב לי לציין שלא הרימו יד על הילדים והם בסדר גמור, פיזית. נפשית אנחנו כולנו נצטרך לעבוד יחד ולעבור את זה בתקופה הטובה ביותר. אני מודה לכולם מקרב לב על הדאגה ועל הרצון לעזור. זה מחמם את הלב\\\".\",\n",
      "            null\n",
      "        ],\n",
      "        \"img\": {\n",
      "            \"@src\": \"http://www.inn.co.il/Generic/IOS/EsiLog?type=0&item=492085\",\n",
      "            \"@style\": \"display: none\"\n",
      "        }\n",
      "    }\n",
      "} {'html': {'body': {'@class': 'Native', 'p': [{'div': [{'div': {'@class': 'a7video IVideo', '@data-player': '{\"type\":3,\"id\":2093711,\"title\":\"צפו: ערן זהבי מברך \\'הגומל\\'\",\"url\":\"a7radio/misc/video/21/may/VID-20210510-WA0074.mp4\",\"image\":1014138,\"author\":\"\",\"date\":\"2021-05-10T12:23:38\",\"credit\":\"באדיבות המצלם\"}', '@data-src': 'http://u.inn.co.il/media/a7radio/misc/video/21/may/VID-20210510-WA0074.mp4', '@onclick': \"if(window.Android)Android.setVideo(JSON.stringify({title:'test',src:this.getAttribute('data-src')}))\", 'img': [{'@class': 'play', '@src': 'http://a7.org/static/Images/objects/play.png'}, {'@class': 'video', '@src': 'http://a7.org/pictures/1014/1014138.jpg'}]}}, {'@class': 'title', 'b': {'@style': 'display: inline-block', '#text': \"צפו: ערן זהבי מברך 'הגומל'\"}, 'span': {'@style': 'display: inline-block'}}]}, 'הכדורגלן הישראלי ערן זהבי עזב אתמול את סגל קבוצתו בהולנד ונסע אל ביתו בעקבות שוד אלים שעברו אשתו וילדיו בביתם.', 'לפי דיווחים, השודדים היו חמושים כשאחד מהם חדר לדירה כשהוא מתחזה לשליח. המשטרה פתחה במצוד אחרי השודדים. משטרת הולנד אמרה לכאן חדשות: \"לא פוסלים מניע אנטישמי בפריצה לביתו של זהבי, אבל זה לא כיוון החקירה הראשון\".', 'רעייתו של זהבי, שי, פרסמה תגובה ראשונה בפוסט באינסטגרם וכתבה: \"עברנו מקרה מזעזע של שוד ותקיפה במקום שאמור להיות עבורנו הכי בטוח בעולם - הבית שלנו. עברו עלינו שעות קשות ואנחנו צריכים רגע לעכל. חשוב לי לציין שלא הרימו יד על הילדים והם בסדר גמור, פיזית. נפשית אנחנו כולנו נצטרך לעבוד יחד ולעבור את זה בתקופה הטובה ביותר. אני מודה לכולם מקרב לב על הדאגה ועל הרצון לעזור. זה מחמם את הלב\".', None], 'img': {'@src': 'http://www.inn.co.il/Generic/IOS/EsiLog?type=0&item=492085', '@style': 'display: none'}}}}\n",
      "-------------------------------------------------------------\n",
      "img {\n",
      "    \"@class\": \"Native\",\n",
      "    \"p\": [\n",
      "        {\n",
      "            \"div\": [\n",
      "                {\n",
      "                    \"div\": {\n",
      "                        \"@class\": \"a7video IVideo\",\n",
      "                        \"@data-player\": \"{\\\"type\\\":3,\\\"id\\\":2093711,\\\"title\\\":\\\"צפו: ערן זהבי מברך 'הגומל'\\\",\\\"url\\\":\\\"a7radio/misc/video/21/may/VID-20210510-WA0074.mp4\\\",\\\"image\\\":1014138,\\\"author\\\":\\\"\\\",\\\"date\\\":\\\"2021-05-10T12:23:38\\\",\\\"credit\\\":\\\"באדיבות המצלם\\\"}\",\n",
      "                        \"@data-src\": \"http://u.inn.co.il/media/a7radio/misc/video/21/may/VID-20210510-WA0074.mp4\",\n",
      "                        \"@onclick\": \"if(window.Android)Android.setVideo(JSON.stringify({title:'test',src:this.getAttribute('data-src')}))\",\n",
      "                        \"img\": [\n",
      "                            {\n",
      "                                \"@class\": \"play\",\n",
      "                                \"@src\": \"http://a7.org/static/Images/objects/play.png\"\n",
      "                            },\n",
      "                            {\n",
      "                                \"@class\": \"video\",\n",
      "                                \"@src\": \"http://a7.org/pictures/1014/1014138.jpg\"\n",
      "                            }\n",
      "                        ]\n",
      "                    }\n",
      "                },\n",
      "                {\n",
      "                    \"@class\": \"title\",\n",
      "                    \"b\": {\n",
      "                        \"@style\": \"display: inline-block\",\n",
      "                        \"#text\": \"צפו: ערן זהבי מברך 'הגומל'\"\n",
      "                    },\n",
      "                    \"span\": {\n",
      "                        \"@style\": \"display: inline-block\"\n",
      "                    }\n",
      "                }\n",
      "            ]\n",
      "        },\n",
      "        \"הכדורגלן הישראלי ערן זהבי עזב אתמול את סגל קבוצתו בהולנד ונסע אל ביתו בעקבות שוד אלים שעברו אשתו וילדיו בביתם.\",\n",
      "        \"לפי דיווחים, השודדים היו חמושים כשאחד מהם חדר לדירה כשהוא מתחזה לשליח. המשטרה פתחה במצוד אחרי השודדים. משטרת הולנד אמרה לכאן חדשות: \\\"לא פוסלים מניע אנטישמי בפריצה לביתו של זהבי, אבל זה לא כיוון החקירה הראשון\\\".\",\n",
      "        \"רעייתו של זהבי, שי, פרסמה תגובה ראשונה בפוסט באינסטגרם וכתבה: \\\"עברנו מקרה מזעזע של שוד ותקיפה במקום שאמור להיות עבורנו הכי בטוח בעולם - הבית שלנו. עברו עלינו שעות קשות ואנחנו צריכים רגע לעכל. חשוב לי לציין שלא הרימו יד על הילדים והם בסדר גמור, פיזית. נפשית אנחנו כולנו נצטרך לעבוד יחד ולעבור את זה בתקופה הטובה ביותר. אני מודה לכולם מקרב לב על הדאגה ועל הרצון לעזור. זה מחמם את הלב\\\".\",\n",
      "        null\n",
      "    ],\n",
      "    \"img\": {\n",
      "        \"@src\": \"http://www.inn.co.il/Generic/IOS/EsiLog?type=0&item=492085\",\n",
      "        \"@style\": \"display: none\"\n",
      "    }\n",
      "} {'body': {'@class': 'Native', 'p': [{'div': [{'div': {'@class': 'a7video IVideo', '@data-player': '{\"type\":3,\"id\":2093711,\"title\":\"צפו: ערן זהבי מברך \\'הגומל\\'\",\"url\":\"a7radio/misc/video/21/may/VID-20210510-WA0074.mp4\",\"image\":1014138,\"author\":\"\",\"date\":\"2021-05-10T12:23:38\",\"credit\":\"באדיבות המצלם\"}', '@data-src': 'http://u.inn.co.il/media/a7radio/misc/video/21/may/VID-20210510-WA0074.mp4', '@onclick': \"if(window.Android)Android.setVideo(JSON.stringify({title:'test',src:this.getAttribute('data-src')}))\", 'img': [{'@class': 'play', '@src': 'http://a7.org/static/Images/objects/play.png'}, {'@class': 'video', '@src': 'http://a7.org/pictures/1014/1014138.jpg'}]}}, {'@class': 'title', 'b': {'@style': 'display: inline-block', '#text': \"צפו: ערן זהבי מברך 'הגומל'\"}, 'span': {'@style': 'display: inline-block'}}]}, 'הכדורגלן הישראלי ערן זהבי עזב אתמול את סגל קבוצתו בהולנד ונסע אל ביתו בעקבות שוד אלים שעברו אשתו וילדיו בביתם.', 'לפי דיווחים, השודדים היו חמושים כשאחד מהם חדר לדירה כשהוא מתחזה לשליח. המשטרה פתחה במצוד אחרי השודדים. משטרת הולנד אמרה לכאן חדשות: \"לא פוסלים מניע אנטישמי בפריצה לביתו של זהבי, אבל זה לא כיוון החקירה הראשון\".', 'רעייתו של זהבי, שי, פרסמה תגובה ראשונה בפוסט באינסטגרם וכתבה: \"עברנו מקרה מזעזע של שוד ותקיפה במקום שאמור להיות עבורנו הכי בטוח בעולם - הבית שלנו. עברו עלינו שעות קשות ואנחנו צריכים רגע לעכל. חשוב לי לציין שלא הרימו יד על הילדים והם בסדר גמור, פיזית. נפשית אנחנו כולנו נצטרך לעבוד יחד ולעבור את זה בתקופה הטובה ביותר. אני מודה לכולם מקרב לב על הדאגה ועל הרצון לעזור. זה מחמם את הלב\".', None], 'img': {'@src': 'http://www.inn.co.il/Generic/IOS/EsiLog?type=0&item=492085', '@style': 'display: none'}}, 'XXX': {'@src': 'http://www.inn.co.il/Generic/IOS/EsiLog?type=0&item=492085', '@style': 'display: none'}}\n",
      "-------------------------------------------------------------\n"
     ]
    },
    {
     "ename": "RuntimeError",
     "evalue": "dictionary changed size during iteration",
     "output_type": "error",
     "traceback": [
      "\u001b[1;31m---------------------------------------------------------------------------\u001b[0m",
      "\u001b[1;31mRuntimeError\u001b[0m                              Traceback (most recent call last)",
      "\u001b[1;32m<ipython-input-329-c8634fbd46b8>\u001b[0m in \u001b[0;36m<module>\u001b[1;34m\u001b[0m\n\u001b[1;32m----> 1\u001b[1;33m \u001b[0mdeleteRecursive\u001b[0m\u001b[1;33m(\u001b[0m\u001b[0mjson_obj\u001b[0m\u001b[1;33m,\u001b[0m \u001b[1;32mNone\u001b[0m\u001b[1;33m)\u001b[0m\u001b[1;33m\u001b[0m\u001b[1;33m\u001b[0m\u001b[0m\n\u001b[0m",
      "\u001b[1;32m<ipython-input-328-d17b8cf28c2b>\u001b[0m in \u001b[0;36mdeleteRecursive\u001b[1;34m(body, p)\u001b[0m\n\u001b[0;32m     11\u001b[0m                 \u001b[0mprint\u001b[0m\u001b[1;33m(\u001b[0m\u001b[0mkey_or_el\u001b[0m \u001b[1;33m,\u001b[0m \u001b[0mjson\u001b[0m\u001b[1;33m.\u001b[0m\u001b[0mdumps\u001b[0m\u001b[1;33m(\u001b[0m\u001b[0mbody\u001b[0m\u001b[1;33m,\u001b[0m \u001b[0mindent\u001b[0m\u001b[1;33m=\u001b[0m\u001b[1;36m4\u001b[0m \u001b[1;33m,\u001b[0m \u001b[0mensure_ascii\u001b[0m\u001b[1;33m=\u001b[0m\u001b[1;32mFalse\u001b[0m\u001b[1;33m)\u001b[0m\u001b[1;33m,\u001b[0m \u001b[0mp\u001b[0m\u001b[1;33m)\u001b[0m\u001b[1;33m\u001b[0m\u001b[1;33m\u001b[0m\u001b[0m\n\u001b[0;32m     12\u001b[0m                 \u001b[0mprint\u001b[0m\u001b[1;33m(\u001b[0m\u001b[1;34m'-------------------------------------------------------------'\u001b[0m\u001b[1;33m)\u001b[0m\u001b[1;33m\u001b[0m\u001b[1;33m\u001b[0m\u001b[0m\n\u001b[1;32m---> 13\u001b[1;33m                 \u001b[0mdeleteRecursive\u001b[0m\u001b[1;33m(\u001b[0m\u001b[0mvalue\u001b[0m \u001b[1;33m,\u001b[0m \u001b[0mbody\u001b[0m\u001b[1;33m)\u001b[0m\u001b[1;33m\u001b[0m\u001b[1;33m\u001b[0m\u001b[0m\n\u001b[0m\u001b[0;32m     14\u001b[0m         \u001b[1;32mif\u001b[0m \u001b[0mtype\u001b[0m\u001b[1;33m(\u001b[0m\u001b[0mbody\u001b[0m\u001b[1;33m)\u001b[0m \u001b[1;33m==\u001b[0m \u001b[0mlist\u001b[0m\u001b[1;33m:\u001b[0m\u001b[1;33m\u001b[0m\u001b[1;33m\u001b[0m\u001b[0m\n\u001b[0;32m     15\u001b[0m             \u001b[1;32mpass\u001b[0m\u001b[1;33m\u001b[0m\u001b[1;33m\u001b[0m\u001b[0m\n",
      "\u001b[1;32m<ipython-input-328-d17b8cf28c2b>\u001b[0m in \u001b[0;36mdeleteRecursive\u001b[1;34m(body, p)\u001b[0m\n\u001b[0;32m      1\u001b[0m \u001b[1;32mdef\u001b[0m \u001b[0mdeleteRecursive\u001b[0m\u001b[1;33m(\u001b[0m\u001b[0mbody\u001b[0m\u001b[1;33m,\u001b[0m \u001b[0mp\u001b[0m\u001b[1;33m)\u001b[0m\u001b[1;33m:\u001b[0m\u001b[1;33m\u001b[0m\u001b[1;33m\u001b[0m\u001b[0m\n\u001b[1;32m----> 2\u001b[1;33m     \u001b[1;32mfor\u001b[0m \u001b[0mkey_or_el\u001b[0m \u001b[1;32min\u001b[0m \u001b[0mbody\u001b[0m\u001b[1;33m:\u001b[0m\u001b[1;33m\u001b[0m\u001b[1;33m\u001b[0m\u001b[0m\n\u001b[0m\u001b[0;32m      3\u001b[0m         \u001b[1;32mif\u001b[0m \u001b[0mtype\u001b[0m\u001b[1;33m(\u001b[0m\u001b[0mbody\u001b[0m\u001b[1;33m)\u001b[0m \u001b[1;33m==\u001b[0m \u001b[0mdict\u001b[0m\u001b[1;33m:\u001b[0m\u001b[1;33m\u001b[0m\u001b[1;33m\u001b[0m\u001b[0m\n\u001b[0;32m      4\u001b[0m             \u001b[0mvalue\u001b[0m \u001b[1;33m=\u001b[0m \u001b[0mbody\u001b[0m\u001b[1;33m[\u001b[0m\u001b[0mkey_or_el\u001b[0m\u001b[1;33m]\u001b[0m\u001b[1;33m\u001b[0m\u001b[1;33m\u001b[0m\u001b[0m\n\u001b[0;32m      5\u001b[0m \u001b[1;33m\u001b[0m\u001b[0m\n",
      "\u001b[1;31mRuntimeError\u001b[0m: dictionary changed size during iteration"
     ]
    }
   ],
   "source": [
    "deleteRecursive(json_obj, None)"
   ]
  },
  {
   "cell_type": "code",
   "execution_count": 333,
   "metadata": {},
   "outputs": [
    {
     "data": {
      "text/plain": [
       "{}"
      ]
     },
     "execution_count": 333,
     "metadata": {},
     "output_type": "execute_result"
    }
   ],
   "source": [
    "my_dict.pop('key', None)\n",
    "my_dict"
   ]
  },
  {
   "cell_type": "code",
   "execution_count": 332,
   "metadata": {},
   "outputs": [],
   "source": [
    "my_dict = {'key' : 'vvv'}"
   ]
  },
  {
   "cell_type": "code",
   "execution_count": 349,
   "metadata": {},
   "outputs": [],
   "source": [
    "import copy\n"
   ]
  },
  {
   "cell_type": "code",
   "execution_count": 360,
   "metadata": {},
   "outputs": [],
   "source": [
    "className :str= '@class'\n",
    "video :str = 'video'\n",
    "div :str= 'div'\n",
    "img :str= 'img'\n",
    "video_class :str = 'a7video IVideo'\n",
    "youtube :str= 'youtube-component'\n",
    "style :str = '@style'\n",
    "invisible_el :str= \"display: none\"\n",
    "attributes_to_delete :list = [className, style, '@onclick', '@data-player']\n",
    "\n",
    "    \n",
    "    \n",
    "    \n",
    "body = copy.copy(json_obj)\n",
    "    \n",
    "def deleteRecursive():\n",
    "    global body\n",
    "    if div in body:\n",
    "        if className in body[div]:\n",
    "            if body[div][className] == video_class:\n",
    "                body[youtube] = deepcopy(body[div])\n",
    "                del body[div]\n",
    "\n",
    "    if img in body:    \n",
    "        if style in body:\n",
    "            if invisible_el in body[style]:\n",
    "                del body[img]\n",
    "\n",
    "    if type(body) == dict:\n",
    "        for attrs in attributes_to_delete:\n",
    "            print(f'deleting attr - {attrs}')\n",
    "            body.pop(attrs, None)\n",
    "\n",
    "\n",
    "    # or list or dict\n",
    "    for key_or_el in body:\n",
    "        if type(body) == dict:\n",
    "            if ( key_or_el == youtube ): # and type(body['img']) == list \n",
    "                imgs :list[dict] = body[key_or_el][img]\n",
    "                if (len(imgs) > 0 and type(imgs) == list):    \n",
    "                    imgs :list= list(filter(lambda img: img[className] == video, imgs))\n",
    "                    if (len(imgs) > 0):\n",
    "                        body[key_or_el]['poster'] = imgs[0].src\n",
    "\n",
    "\n",
    "\n",
    "\n",
    "\n",
    "        if type(body) == list:\n",
    "            body = copy.copy(key_or_el)\n",
    "            deleteRecursive()"
   ]
  },
  {
   "cell_type": "code",
   "execution_count": 361,
   "metadata": {},
   "outputs": [
    {
     "name": "stdout",
     "output_type": "stream",
     "text": [
      "deleting attr - @class\n",
      "deleting attr - @style\n",
      "deleting attr - @onclick\n",
      "deleting attr - @data-player\n"
     ]
    }
   ],
   "source": [
    "# list_obj = [json_obj]\n",
    "deleteRecursive()"
   ]
  },
  {
   "cell_type": "code",
   "execution_count": 346,
   "metadata": {},
   "outputs": [],
   "source": [
    "with open('x.json', mode='w', encoding='utf8') as f:\n",
    "    f.write(json.dumps(list_obj, indent=4 , ensure_ascii=False))"
   ]
  },
  {
   "cell_type": "code",
   "execution_count": 343,
   "metadata": {},
   "outputs": [
    {
     "ename": "ImportError",
     "evalue": "cannot import name 's' from 'copy' (C:\\Users\\shake\\Anaconda3\\lib\\copy.py)",
     "output_type": "error",
     "traceback": [
      "\u001b[1;31m---------------------------------------------------------------------------\u001b[0m",
      "\u001b[1;31mImportError\u001b[0m                               Traceback (most recent call last)",
      "\u001b[1;32m<ipython-input-343-13b6e343d095>\u001b[0m in \u001b[0;36m<module>\u001b[1;34m\u001b[0m\n\u001b[1;32m----> 1\u001b[1;33m \u001b[1;32mfrom\u001b[0m \u001b[0mcopy\u001b[0m \u001b[1;32mimport\u001b[0m \u001b[0ms\u001b[0m\u001b[1;33m\u001b[0m\u001b[1;33m\u001b[0m\u001b[0m\n\u001b[0m",
      "\u001b[1;31mImportError\u001b[0m: cannot import name 's' from 'copy' (C:\\Users\\shake\\Anaconda3\\lib\\copy.py)"
     ]
    }
   ],
   "source": [
    "from copy import s\n"
   ]
  },
  {
   "cell_type": "code",
   "execution_count": 358,
   "metadata": {},
   "outputs": [
    {
     "data": {
      "text/plain": [
       "{'html': {'body': {'@class': 'Native',\n",
       "   'p': [{'div': [{'div': {'@class': 'a7video IVideo',\n",
       "        '@data-player': '{\"type\":3,\"id\":2093711,\"title\":\"צפו: ערן זהבי מברך \\'הגומל\\'\",\"url\":\"a7radio/misc/video/21/may/VID-20210510-WA0074.mp4\",\"image\":1014138,\"author\":\"\",\"date\":\"2021-05-10T12:23:38\",\"credit\":\"באדיבות המצלם\"}',\n",
       "        '@data-src': 'http://u.inn.co.il/media/a7radio/misc/video/21/may/VID-20210510-WA0074.mp4',\n",
       "        '@onclick': \"if(window.Android)Android.setVideo(JSON.stringify({title:'test',src:this.getAttribute('data-src')}))\",\n",
       "        'img': [{'@class': 'play',\n",
       "          '@src': 'http://a7.org/static/Images/objects/play.png'},\n",
       "         {'@class': 'video',\n",
       "          '@src': 'http://a7.org/pictures/1014/1014138.jpg'}]}},\n",
       "      {'@class': 'title',\n",
       "       'b': {'@style': 'display: inline-block',\n",
       "        '#text': \"צפו: ערן זהבי מברך 'הגומל'\"},\n",
       "       'span': {'@style': 'display: inline-block'}}]},\n",
       "    'הכדורגלן הישראלי ערן זהבי עזב אתמול את סגל קבוצתו בהולנד ונסע אל ביתו בעקבות שוד אלים שעברו אשתו וילדיו בביתם.',\n",
       "    'לפי דיווחים, השודדים היו חמושים כשאחד מהם חדר לדירה כשהוא מתחזה לשליח. המשטרה פתחה במצוד אחרי השודדים. משטרת הולנד אמרה לכאן חדשות: \"לא פוסלים מניע אנטישמי בפריצה לביתו של זהבי, אבל זה לא כיוון החקירה הראשון\".',\n",
       "    'רעייתו של זהבי, שי, פרסמה תגובה ראשונה בפוסט באינסטגרם וכתבה: \"עברנו מקרה מזעזע של שוד ותקיפה במקום שאמור להיות עבורנו הכי בטוח בעולם - הבית שלנו. עברו עלינו שעות קשות ואנחנו צריכים רגע לעכל. חשוב לי לציין שלא הרימו יד על הילדים והם בסדר גמור, פיזית. נפשית אנחנו כולנו נצטרך לעבוד יחד ולעבור את זה בתקופה הטובה ביותר. אני מודה לכולם מקרב לב על הדאגה ועל הרצון לעזור. זה מחמם את הלב\".',\n",
       "    None],\n",
       "   'img': {'@src': 'http://www.inn.co.il/Generic/IOS/EsiLog?type=0&item=492085',\n",
       "    '@style': 'display: none'}},\n",
       "  'XXX': {'@src': 'http://www.inn.co.il/Generic/IOS/EsiLog?type=0&item=492085',\n",
       "   '@style': 'display: none'}}}"
      ]
     },
     "execution_count": 358,
     "metadata": {},
     "output_type": "execute_result"
    }
   ],
   "source": [
    "json_obj"
   ]
  },
  {
   "cell_type": "code",
   "execution_count": 357,
   "metadata": {},
   "outputs": [
    {
     "data": {
      "text/plain": [
       "{'html': {'body': {'@class': 'Native',\n",
       "   'p': [{'div': [{'div': {'@class': 'a7video IVideo',\n",
       "        '@data-player': '{\"type\":3,\"id\":2093711,\"title\":\"צפו: ערן זהבי מברך \\'הגומל\\'\",\"url\":\"a7radio/misc/video/21/may/VID-20210510-WA0074.mp4\",\"image\":1014138,\"author\":\"\",\"date\":\"2021-05-10T12:23:38\",\"credit\":\"באדיבות המצלם\"}',\n",
       "        '@data-src': 'http://u.inn.co.il/media/a7radio/misc/video/21/may/VID-20210510-WA0074.mp4',\n",
       "        '@onclick': \"if(window.Android)Android.setVideo(JSON.stringify({title:'test',src:this.getAttribute('data-src')}))\",\n",
       "        'img': [{'@class': 'play',\n",
       "          '@src': 'http://a7.org/static/Images/objects/play.png'},\n",
       "         {'@class': 'video',\n",
       "          '@src': 'http://a7.org/pictures/1014/1014138.jpg'}]}},\n",
       "      {'@class': 'title',\n",
       "       'b': {'@style': 'display: inline-block',\n",
       "        '#text': \"צפו: ערן זהבי מברך 'הגומל'\"},\n",
       "       'span': {'@style': 'display: inline-block'}}]},\n",
       "    'הכדורגלן הישראלי ערן זהבי עזב אתמול את סגל קבוצתו בהולנד ונסע אל ביתו בעקבות שוד אלים שעברו אשתו וילדיו בביתם.',\n",
       "    'לפי דיווחים, השודדים היו חמושים כשאחד מהם חדר לדירה כשהוא מתחזה לשליח. המשטרה פתחה במצוד אחרי השודדים. משטרת הולנד אמרה לכאן חדשות: \"לא פוסלים מניע אנטישמי בפריצה לביתו של זהבי, אבל זה לא כיוון החקירה הראשון\".',\n",
       "    'רעייתו של זהבי, שי, פרסמה תגובה ראשונה בפוסט באינסטגרם וכתבה: \"עברנו מקרה מזעזע של שוד ותקיפה במקום שאמור להיות עבורנו הכי בטוח בעולם - הבית שלנו. עברו עלינו שעות קשות ואנחנו צריכים רגע לעכל. חשוב לי לציין שלא הרימו יד על הילדים והם בסדר גמור, פיזית. נפשית אנחנו כולנו נצטרך לעבוד יחד ולעבור את זה בתקופה הטובה ביותר. אני מודה לכולם מקרב לב על הדאגה ועל הרצון לעזור. זה מחמם את הלב\".',\n",
       "    None],\n",
       "   'img': {'@src': 'http://www.inn.co.il/Generic/IOS/EsiLog?type=0&item=492085',\n",
       "    '@style': 'display: none'}},\n",
       "  'XXX': {'@src': 'http://www.inn.co.il/Generic/IOS/EsiLog?type=0&item=492085',\n",
       "   '@style': 'display: none'}}}"
      ]
     },
     "execution_count": 357,
     "metadata": {},
     "output_type": "execute_result"
    }
   ],
   "source": [
    "body"
   ]
  },
  {
   "cell_type": "code",
   "execution_count": null,
   "metadata": {},
   "outputs": [],
   "source": []
  },
  {
   "cell_type": "code",
   "execution_count": null,
   "metadata": {},
   "outputs": [],
   "source": []
  },
  {
   "cell_type": "code",
   "execution_count": 344,
   "metadata": {},
   "outputs": [
    {
     "name": "stdout",
     "output_type": "stream",
     "text": [
      "before, outer_list = ['one', 'two', 'three']\n",
      "got ['one', 'two', 'three']\n",
      "changed to ['one', 'two', 'three', 'four']\n",
      "after, outer_list = ['one', 'two', 'three', 'four']\n"
     ]
    }
   ],
   "source": [
    "def try_to_change_list_contents(the_list):\n",
    "    print('got', the_list)\n",
    "    the_list.append('four')\n",
    "    print('changed to', the_list)\n",
    "\n",
    "outer_list = ['one', 'two', 'three']\n",
    "\n",
    "print('before, outer_list =', outer_list)\n",
    "try_to_change_list_contents(outer_list)\n",
    "print('after, outer_list =', outer_list)"
   ]
  },
  {
   "cell_type": "code",
   "execution_count": null,
   "metadata": {},
   "outputs": [],
   "source": []
  },
  {
   "cell_type": "code",
   "execution_count": 546,
   "metadata": {},
   "outputs": [],
   "source": [
    "el_p = html_s.contents[0].contents[0].contents[1].contents[1]"
   ]
  },
  {
   "cell_type": "code",
   "execution_count": 544,
   "metadata": {},
   "outputs": [
    {
     "data": {
      "text/plain": [
       "' here is p '"
      ]
     },
     "execution_count": 544,
     "metadata": {},
     "output_type": "execute_result"
    }
   ],
   "source": [
    "test= html_s.contents[0].contents[0].contents[1].contents[1].contents[0]\n",
    "test"
   ]
  },
  {
   "cell_type": "code",
   "execution_count": 533,
   "metadata": {},
   "outputs": [],
   "source": [
    "test= html_s.contents[0].contents[0].contents[1].contents[2]"
   ]
  },
  {
   "cell_type": "code",
   "execution_count": 545,
   "metadata": {},
   "outputs": [
    {
     "name": "stdout",
     "output_type": "stream",
     "text": [
      "p\n",
      "div\n",
      "body\n",
      "html\n",
      "[document]\n"
     ]
    }
   ],
   "source": [
    "for p in list(test.parents):\n",
    "    print(p.name)"
   ]
  },
  {
   "cell_type": "code",
   "execution_count": 553,
   "metadata": {},
   "outputs": [
    {
     "data": {
      "text/plain": [
       "' here is p '"
      ]
     },
     "execution_count": 553,
     "metadata": {},
     "output_type": "execute_result"
    }
   ],
   "source": [
    "el_p.next"
   ]
  },
  {
   "cell_type": "code",
   "execution_count": 554,
   "metadata": {},
   "outputs": [
    {
     "data": {
      "text/plain": [
       "' with more'"
      ]
     },
     "execution_count": 554,
     "metadata": {},
     "output_type": "execute_result"
    }
   ],
   "source": [
    "test.next"
   ]
  },
  {
   "cell_type": "code",
   "execution_count": 556,
   "metadata": {},
   "outputs": [],
   "source": [
    "t = html_s.contents[0].contents[0].contents[1]\n"
   ]
  },
  {
   "cell_type": "code",
   "execution_count": 557,
   "metadata": {},
   "outputs": [
    {
     "data": {
      "text/plain": [
       "<div>text and <p> here is p </p> with more</div>"
      ]
     },
     "execution_count": 557,
     "metadata": {},
     "output_type": "execute_result"
    }
   ],
   "source": [
    "t"
   ]
  },
  {
   "cell_type": "code",
   "execution_count": 560,
   "metadata": {},
   "outputs": [
    {
     "data": {
      "text/plain": [
       "'text and '"
      ]
     },
     "execution_count": 560,
     "metadata": {},
     "output_type": "execute_result"
    }
   ],
   "source": [
    "t.next"
   ]
  },
  {
   "cell_type": "code",
   "execution_count": 561,
   "metadata": {},
   "outputs": [
    {
     "data": {
      "text/plain": [
       "[0, 1, 1]"
      ]
     },
     "execution_count": 561,
     "metadata": {},
     "output_type": "execute_result"
    }
   ],
   "source": [
    "a = [0 , 1]\n",
    "b = a\n",
    "b.append(1)\n",
    "a"
   ]
  },
  {
   "cell_type": "code",
   "execution_count": 562,
   "metadata": {},
   "outputs": [
    {
     "data": {
      "text/plain": [
       "{'a': 1, 'j': 2}"
      ]
     },
     "execution_count": 562,
     "metadata": {},
     "output_type": "execute_result"
    }
   ],
   "source": [
    "c = {'a' : 1} \n",
    "d = c\n",
    "d['j'] = 2\n",
    "c"
   ]
  },
  {
   "cell_type": "code",
   "execution_count": null,
   "metadata": {},
   "outputs": [],
   "source": []
  }
 ],
 "metadata": {
  "kernelspec": {
   "display_name": "Python 3",
   "language": "python",
   "name": "python3"
  },
  "language_info": {
   "codemirror_mode": {
    "name": "ipython",
    "version": 3
   },
   "file_extension": ".py",
   "mimetype": "text/x-python",
   "name": "python",
   "nbconvert_exporter": "python",
   "pygments_lexer": "ipython3",
   "version": "3.8.3"
  }
 },
 "nbformat": 4,
 "nbformat_minor": 4
}
