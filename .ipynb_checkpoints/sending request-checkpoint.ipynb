{
 "cells": [
  {
   "cell_type": "code",
   "execution_count": 1,
   "id": "7c4e319a",
   "metadata": {},
   "outputs": [],
   "source": [
    "import requests as r"
   ]
  },
  {
   "cell_type": "code",
   "execution_count": 41,
   "id": "2efa312d",
   "metadata": {},
   "outputs": [],
   "source": [
    "html = '''<div>\n",
    "    <h1>Test</h1>\n",
    "    <h2>Test</h2>\n",
    "    <h3>Test</h3>\n",
    "    <h4>Test</h4>\n",
    "    <p>Deserunt aliquip occaecat minim labore aliquip duis Lorem. Sunt nisi proident magna nulla pariatur id Lorem ipsum cupidatat. Et exercitation deserunt pariatur aute incididunt.</p>\n",
    "\n",
    "    <p>Incididunt cupidatat ut ea eu anim. Culpa magna commodo sint fugiat minim veniam. Ea et quis et et reprehenderit est nulla fugiat ullamco. Ut irure minim ut est dolore anim.</p>\n",
    "\n",
    "    <p>Eiusmod velit cillum elit duis duis fugiat aute elit labore. Aute deserunt id consectetur esse voluptate in nisi amet elit. Reprehenderit pariatur proident laboris officia enim tempor. Lorem mollit labore mollit consectetur veniam ullamco consectetur. Ad laborum proident veniam reprehenderit irure.</p>\n",
    "\n",
    "    <p>Eiusmod nulla occaecat id exercitation aliquip incididunt aliqua eu occaecat. Cupidatat consequat ullamco reprehenderit eiusmod. Pariatur cillum laborum reprehenderit id est tempor. Commodo elit aliqua sit esse culpa. Magna ex adipisicing ut dolore est nulla eu sunt.</p>\n",
    "\n",
    "    <p>Labore reprehenderit sunt excepteur <a href=\"https://www.w3schools.com\">Visit W3Schools.com!</a> ea dolore in. Velit aliqua nulla proident cillum et amet aliqua fugiat laborum. Veniam nostrud minim dolore laboris nulla ad eu aute.</p>\n",
    "    <ol>\n",
    "        <li>a</li>\n",
    "        <li>b</li>\n",
    "        <li>c</li>\n",
    "        <li>d</li>\n",
    "        <li>e</li>\n",
    "        <li>f</li>\n",
    "    </ol>\n",
    "    <ul>\n",
    "        <li>a</li>\n",
    "        <li>b</li>\n",
    "        <li>c</li>\n",
    "        <li>d</li>\n",
    "        <li>e</li>\n",
    "        <li>f</li>\n",
    "    </ul>\n",
    "    <p>This is normal text - <b>and this is bold text</b>.</p>\n",
    "    <a href=\"https://www.w3schools.com\">Visit W3Schools.com!</a>\n",
    "\n",
    "\n",
    "</div>\n",
    "'''"
   ]
  },
  {
   "cell_type": "code",
   "execution_count": 42,
   "id": "c5ec3cb8",
   "metadata": {},
   "outputs": [],
   "source": [
    "respond = r.post('http://localhost:5000/', data={ 'html': html})"
   ]
  },
  {
   "cell_type": "code",
   "execution_count": 44,
   "id": "e7cdf1cd",
   "metadata": {},
   "outputs": [
    {
     "data": {
      "text/plain": [
       "'div'"
      ]
     },
     "execution_count": 44,
     "metadata": {},
     "output_type": "execute_result"
    }
   ],
   "source": [
    "respond.json()['data']['tag']"
   ]
  },
  {
   "cell_type": "code",
   "execution_count": 45,
   "id": "10b0b382",
   "metadata": {},
   "outputs": [
    {
     "data": {
      "text/plain": [
       "[{'attrs': {},\n",
       "  'content': [{'attrs': {}, 'content': 'Test', 'tag': 'h1'},\n",
       "   {'attrs': {}, 'content': 'Test', 'tag': 'h2'},\n",
       "   {'attrs': {}, 'content': 'Test', 'tag': 'h3'},\n",
       "   {'attrs': {}, 'content': 'Test', 'tag': 'h4'},\n",
       "   {'attrs': {},\n",
       "    'content': 'Deserunt aliquip occaecat minim labore aliquip duis Lorem. Sunt nisi proident magna nulla pariatur id Lorem ipsum cupidatat. Et exercitation deserunt pariatur aute incididunt.',\n",
       "    'tag': 'p'},\n",
       "   {'attrs': {},\n",
       "    'content': 'Incididunt cupidatat ut ea eu anim. Culpa magna commodo sint fugiat minim veniam. Ea et quis et et reprehenderit est nulla fugiat ullamco. Ut irure minim ut est dolore anim.',\n",
       "    'tag': 'p'},\n",
       "   {'attrs': {},\n",
       "    'content': 'Eiusmod velit cillum elit duis duis fugiat aute elit labore. Aute deserunt id consectetur esse voluptate in nisi amet elit. Reprehenderit pariatur proident laboris officia enim tempor. Lorem mollit labore mollit consectetur veniam ullamco consectetur. Ad laborum proident veniam reprehenderit irure.',\n",
       "    'tag': 'p'},\n",
       "   {'attrs': {},\n",
       "    'content': 'Eiusmod nulla occaecat id exercitation aliquip incididunt aliqua eu occaecat. Cupidatat consequat ullamco reprehenderit eiusmod. Pariatur cillum laborum reprehenderit id est tempor. Commodo elit aliqua sit esse culpa. Magna ex adipisicing ut dolore est nulla eu sunt.',\n",
       "    'tag': 'p'},\n",
       "   {'attrs': {},\n",
       "    'content': ['Labore reprehenderit sunt excepteur ',\n",
       "     {'attrs': {'href': 'https://www.w3schools.com'},\n",
       "      'content': 'Visit W3Schools.com!',\n",
       "      'tag': 'a'},\n",
       "     ' ea dolore in. Velit aliqua nulla proident cillum et amet aliqua fugiat laborum. Veniam nostrud minim dolore laboris nulla ad eu aute.'],\n",
       "    'tag': 'p'},\n",
       "   {'attrs': {},\n",
       "    'content': [{'attrs': {}, 'content': 'a', 'tag': 'li'},\n",
       "     {'attrs': {}, 'content': 'b', 'tag': 'li'},\n",
       "     {'attrs': {}, 'content': 'c', 'tag': 'li'},\n",
       "     {'attrs': {}, 'content': 'd', 'tag': 'li'},\n",
       "     {'attrs': {}, 'content': 'e', 'tag': 'li'},\n",
       "     {'attrs': {}, 'content': 'f', 'tag': 'li'}],\n",
       "    'tag': 'ol'},\n",
       "   {'attrs': {},\n",
       "    'content': [{'attrs': {}, 'content': 'a', 'tag': 'li'},\n",
       "     {'attrs': {}, 'content': 'b', 'tag': 'li'},\n",
       "     {'attrs': {}, 'content': 'c', 'tag': 'li'},\n",
       "     {'attrs': {}, 'content': 'd', 'tag': 'li'},\n",
       "     {'attrs': {}, 'content': 'e', 'tag': 'li'},\n",
       "     {'attrs': {}, 'content': 'f', 'tag': 'li'}],\n",
       "    'tag': 'ul'},\n",
       "   {'attrs': {},\n",
       "    'content': ['This is normal text - ',\n",
       "     {'attrs': {}, 'content': 'and this is bold text', 'tag': 'b'},\n",
       "     '.'],\n",
       "    'tag': 'p'},\n",
       "   {'attrs': {'href': 'https://www.w3schools.com'},\n",
       "    'content': 'Visit W3Schools.com!',\n",
       "    'tag': 'a'}],\n",
       "  'tag': 'div'}]"
      ]
     },
     "execution_count": 45,
     "metadata": {},
     "output_type": "execute_result"
    }
   ],
   "source": [
    "respond.json()['data']['content']"
   ]
  },
  {
   "cell_type": "code",
   "execution_count": null,
   "id": "cb125215",
   "metadata": {},
   "outputs": [],
   "source": []
  }
 ],
 "metadata": {
  "kernelspec": {
   "display_name": "Python 3",
   "language": "python",
   "name": "python3"
  },
  "language_info": {
   "codemirror_mode": {
    "name": "ipython",
    "version": 3
   },
   "file_extension": ".py",
   "mimetype": "text/x-python",
   "name": "python",
   "nbconvert_exporter": "python",
   "pygments_lexer": "ipython3",
   "version": "3.8.8"
  }
 },
 "nbformat": 4,
 "nbformat_minor": 5
}
