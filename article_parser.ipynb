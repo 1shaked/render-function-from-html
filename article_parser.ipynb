{
 "cells": [
  {
   "cell_type": "code",
   "execution_count": 15,
   "metadata": {},
   "outputs": [],
   "source": [
    "\n",
    "import requests\n",
    "from bs4 import BeautifulSoup, element\n",
    "# from lxml.html import parse\n",
    "import xmltojson\n",
    "import json\n",
    "from copy import deepcopy\n",
    "\n",
    "className :str= '@class'\n",
    "video :str = 'video'\n",
    "div :str= 'div'\n",
    "img :str= 'img'\n",
    "video_class :str = 'a7video IVideo'\n",
    "youtube :str= 'youtube-component'\n",
    "style :str = '@style'\n",
    "invisible_el :str= \"display: none\"\n",
    "attributes_to_delete :list = [className, style, '@onclick', '@data-player']\n",
    "REMOVE_ATTRIBUTES = ['class','lang','language','onmouseover','onmouseout','script','style','font', 'onclick', 'data-player']\n",
    "\n",
    "class HtmlConverter: \n",
    "    def __init__(self, articleId :int):\n",
    "        \n",
    "        self.articleId = articleId\n",
    "        self.html :str= ''\n",
    "        self.json :dict = {}\n",
    "\n",
    "        html_string :str= self.getHtmlContent()\n",
    "        self.parseHtmlContent(html_string)\n",
    "        self.tranformToJson()\n",
    "        # self.removeUnusedParams()\n",
    "        self.saveToFile()\n",
    "\n",
    "    def getHtmlContent(self):\n",
    "        url :str= f'https://www.inn.co.il/Generic/NewApi/Item?Type=0&item={self.articleId}'\n",
    "        respond :dict= requests.get(url).json()\n",
    "        return respond['content']\n",
    "        \n",
    "\n",
    "    def parseHtmlContent(self, html_string :str):\n",
    "        soup :BeautifulSoup =BeautifulSoup(html_string, \"html.parser\")\n",
    "        tags_to_delete :list[str] = ['head', 'style','script']\n",
    "        # deleting the tags\n",
    "        for tag in tags_to_delete:\n",
    "            els = soup.select(tag)\n",
    "            for el in els:\n",
    "                el.extract()\n",
    "\n",
    "        for viedos in soup.find_all(\"div\", class_=\"a7video IVideo\"): # [0].contents\n",
    "            for img in viedos:\n",
    "                if type(img) == element.Tag:\n",
    "                    if img.attrs['class'] != 'video':\n",
    "                        img.extract()\n",
    "                elif type(img) == element.NavigableString:\n",
    "                    img.extract()\n",
    "        \n",
    "        \n",
    "        for img in soup.select('img'):\n",
    "            if ('style' in img.attrs):\n",
    "                if 'display: none' in img.attrs['style']:\n",
    "                    img.extract()\n",
    "\n",
    "\n",
    "        for v in soup.find_all(\"div\", class_=\"a7video IVideo\"): \n",
    "            v.name = 'youtube-component'\n",
    "\n",
    "        for tag in soup.recursiveChildGenerator():\n",
    "            if (type(tag) == element.NavigableString):\n",
    "                if tag.string == '\\n':\n",
    "                    tag.extract()\n",
    "            elif (type(tag) == element.Tag):\n",
    "                for tag_to_remove in REMOVE_ATTRIBUTES:\n",
    "                    if tag_to_remove in tag.attrs:\n",
    "                        del tag[tag_to_remove]\n",
    "                # tag.attrs = [(key,value) for key,value in tag.attrs if key not in REMOVE_ATTRIBUTES]\n",
    "\n",
    "        # TODO: del\n",
    "        self.soup = soup\n",
    "        self.html = soup.body.prettify(formatter='html')\n",
    "        self.html = self.html.replace('\\n', '').replace('<!DOCTYPE html>', '')\n",
    "\n",
    "    def tranformToJson(self):\n",
    "        html :str= xmltojson.parse(self.html)\n",
    "        self.json = json.loads(html)\n",
    "\n",
    "\n",
    "    def removeUnusedParams(self):\n",
    "        body = self.json['html']['body']\n",
    "        \n",
    "        print('removing unused params....')\n",
    "\n",
    "\n",
    "    def saveToFile(self):\n",
    "        with open('test.json', mode='w', encoding='utf8') as f:\n",
    "            f.write(json.dumps(self.json, indent=4, ensure_ascii=False))\n",
    "\n"
   ]
  },
  {
   "cell_type": "code",
   "execution_count": 41,
   "metadata": {},
   "outputs": [],
   "source": [
    "html_c = '''\n",
    "<body>    \n",
    "    <div class=\"cls\" src='/yaho/shaked' poster='img'>text and <p id=\"idtag\"> here is p </p> with more</div>\n",
    "</body>\n",
    "'''\n",
    "\n",
    "html_s = BeautifulSoup(html_c)"
   ]
  },
  {
   "cell_type": "code",
   "execution_count": 49,
   "metadata": {},
   "outputs": [],
   "source": [
    "\n",
    "htmlConvertar :HtmlConverter = HtmlConverter(492085)\n"
   ]
  },
  {
   "cell_type": "code",
   "execution_count": 50,
   "metadata": {},
   "outputs": [],
   "source": [
    "for el in htmlConvertar.soup.recursiveChildGenerator():\n",
    "    if (type(el) == element.NavigableString):\n",
    "        if el.string == '\\n':\n",
    "            el.extract()"
   ]
  },
  {
   "cell_type": "code",
   "execution_count": 51,
   "metadata": {},
   "outputs": [],
   "source": [
    "body = htmlConvertar.soup.body"
   ]
  },
  {
   "cell_type": "code",
   "execution_count": 45,
   "metadata": {},
   "outputs": [],
   "source": [
    "el = body.contents[0] # .can_be_empty_element"
   ]
  },
  {
   "cell_type": "code",
   "execution_count": null,
   "metadata": {},
   "outputs": [],
   "source": [
    "del body.find_all(True)[-5].attrs['style']\n",
    "body.find_all(True)[-5]"
   ]
  },
  {
   "cell_type": "code",
   "execution_count": 68,
   "metadata": {},
   "outputs": [
    {
     "data": {
      "text/plain": [
       "'span'"
      ]
     },
     "execution_count": 68,
     "metadata": {},
     "output_type": "execute_result"
    }
   ],
   "source": [
    "body.find_all(True)[-5]"
   ]
  },
  {
   "cell_type": "code",
   "execution_count": 70,
   "metadata": {},
   "outputs": [
    {
     "data": {
      "text/plain": [
       "dict_keys([])"
      ]
     },
     "execution_count": 70,
     "metadata": {},
     "output_type": "execute_result"
    }
   ],
   "source": [
    "body.find_all(True)[-5].attrs"
   ]
  },
  {
   "cell_type": "code",
   "execution_count": 71,
   "metadata": {},
   "outputs": [],
   "source": [
    "b = {'a' : 4, 'b': 50}"
   ]
  },
  {
   "cell_type": "code",
   "execution_count": 73,
   "metadata": {},
   "outputs": [
    {
     "data": {
      "text/plain": [
       "{'b': 50}"
      ]
     },
     "execution_count": 73,
     "metadata": {},
     "output_type": "execute_result"
    }
   ],
   "source": [
    "del b['a']\n",
    "b"
   ]
  },
  {
   "cell_type": "code",
   "execution_count": 46,
   "metadata": {},
   "outputs": [],
   "source": [
    "youtube = el.contents[0].contents[0]\n"
   ]
  },
  {
   "cell_type": "code",
   "execution_count": 47,
   "metadata": {},
   "outputs": [
    {
     "data": {
      "text/plain": [
       "{'class': ['cls'], 'src': '/yaho/shaked', 'poster': 'img'}"
      ]
     },
     "execution_count": 47,
     "metadata": {},
     "output_type": "execute_result"
    }
   ],
   "source": [
    "html_s.body.contents[1].attrs"
   ]
  },
  {
   "cell_type": "code",
   "execution_count": null,
   "metadata": {},
   "outputs": [],
   "source": [
    "html_s.append"
   ]
  },
  {
   "cell_type": "code",
   "execution_count": 40,
   "metadata": {},
   "outputs": [],
   "source": [
    "en = body.contents[4]"
   ]
  },
  {
   "cell_type": "code",
   "execution_count": 43,
   "metadata": {},
   "outputs": [
    {
     "ename": "ValueError",
     "evalue": "Tag.index: element not in tag",
     "output_type": "error",
     "traceback": [
      "\u001b[1;31m---------------------------------------------------------------------------\u001b[0m",
      "\u001b[1;31mValueError\u001b[0m                                Traceback (most recent call last)",
      "\u001b[1;32m<ipython-input-43-f14ed9831eb6>\u001b[0m in \u001b[0;36m<module>\u001b[1;34m\u001b[0m\n\u001b[1;32m----> 1\u001b[1;33m \u001b[0mbody\u001b[0m\u001b[1;33m.\u001b[0m\u001b[0mindex\u001b[0m\u001b[1;33m(\u001b[0m\u001b[0mel\u001b[0m\u001b[1;33m)\u001b[0m\u001b[1;33m\u001b[0m\u001b[1;33m\u001b[0m\u001b[0m\n\u001b[0m",
      "\u001b[1;32m~\\Anaconda3\\lib\\site-packages\\bs4\\element.py\u001b[0m in \u001b[0;36mindex\u001b[1;34m(self, element)\u001b[0m\n\u001b[0;32m    945\u001b[0m             \u001b[1;32mif\u001b[0m \u001b[0mchild\u001b[0m \u001b[1;32mis\u001b[0m \u001b[0melement\u001b[0m\u001b[1;33m:\u001b[0m\u001b[1;33m\u001b[0m\u001b[1;33m\u001b[0m\u001b[0m\n\u001b[0;32m    946\u001b[0m                 \u001b[1;32mreturn\u001b[0m \u001b[0mi\u001b[0m\u001b[1;33m\u001b[0m\u001b[1;33m\u001b[0m\u001b[0m\n\u001b[1;32m--> 947\u001b[1;33m         \u001b[1;32mraise\u001b[0m \u001b[0mValueError\u001b[0m\u001b[1;33m(\u001b[0m\u001b[1;34m\"Tag.index: element not in tag\"\u001b[0m\u001b[1;33m)\u001b[0m\u001b[1;33m\u001b[0m\u001b[1;33m\u001b[0m\u001b[0m\n\u001b[0m\u001b[0;32m    948\u001b[0m \u001b[1;33m\u001b[0m\u001b[0m\n\u001b[0;32m    949\u001b[0m     \u001b[1;32mdef\u001b[0m \u001b[0mget\u001b[0m\u001b[1;33m(\u001b[0m\u001b[0mself\u001b[0m\u001b[1;33m,\u001b[0m \u001b[0mkey\u001b[0m\u001b[1;33m,\u001b[0m \u001b[0mdefault\u001b[0m\u001b[1;33m=\u001b[0m\u001b[1;32mNone\u001b[0m\u001b[1;33m)\u001b[0m\u001b[1;33m:\u001b[0m\u001b[1;33m\u001b[0m\u001b[1;33m\u001b[0m\u001b[0m\n",
      "\u001b[1;31mValueError\u001b[0m: Tag.index: element not in tag"
     ]
    }
   ],
   "source": [
    "body.contents"
   ]
  },
  {
   "cell_type": "code",
   "execution_count": 42,
   "metadata": {},
   "outputs": [
    {
     "data": {
      "text/plain": [
       "<p> here is p </p>"
      ]
     },
     "execution_count": 42,
     "metadata": {},
     "output_type": "execute_result"
    }
   ],
   "source": [
    "el = html_s.contents[0].contents[0].contents[1].contents[1]\n",
    "el"
   ]
  },
  {
   "cell_type": "code",
   "execution_count": 31,
   "metadata": {},
   "outputs": [
    {
     "name": "stdout",
     "output_type": "stream",
     "text": [
      "<html><body>\n",
      "<div>text and <p> here is p </p> with more</div>\n",
      "</body>\n",
      "</html>\n",
      "<html><body>\n",
      "<div>text and <p> here is p </p> with more</div>\n",
      "</body>\n",
      "</html>\n",
      "<body>\n",
      "<div>text and <p> here is p </p> with more</div>\n",
      "</body>\n",
      "<div>text and <p> here is p </p> with more</div>\n"
     ]
    }
   ],
   "source": [
    "content = []\n",
    "base = {}\n",
    "index = 0\n",
    "\n",
    "for p in list(el.parents)[::-1]:\n",
    "    print(p)\n"
   ]
  },
  {
   "cell_type": "code",
   "execution_count": 27,
   "metadata": {},
   "outputs": [],
   "source": [
    "el.name"
   ]
  },
  {
   "cell_type": "code",
   "execution_count": 30,
   "metadata": {},
   "outputs": [
    {
     "data": {
      "text/plain": [
       "<generator object PageElement.parents at 0x0000028F2134DC10>"
      ]
     },
     "execution_count": 30,
     "metadata": {},
     "output_type": "execute_result"
    }
   ],
   "source": [
    "el.parents"
   ]
  },
  {
   "cell_type": "code",
   "execution_count": 48,
   "metadata": {},
   "outputs": [],
   "source": [
    "a = []"
   ]
  },
  {
   "cell_type": "code",
   "execution_count": 63,
   "metadata": {},
   "outputs": [],
   "source": []
  },
  {
   "cell_type": "code",
   "execution_count": 64,
   "metadata": {},
   "outputs": [
    {
     "data": {
      "text/plain": [
       "<span></span>"
      ]
     },
     "execution_count": 64,
     "metadata": {},
     "output_type": "execute_result"
    }
   ],
   "source": []
  },
  {
   "cell_type": "code",
   "execution_count": null,
   "metadata": {},
   "outputs": [],
   "source": []
  }
 ],
 "metadata": {
  "kernelspec": {
   "display_name": "Python 3",
   "language": "python",
   "name": "python3"
  },
  "language_info": {
   "codemirror_mode": {
    "name": "ipython",
    "version": 3
   },
   "file_extension": ".py",
   "mimetype": "text/x-python",
   "name": "python",
   "nbconvert_exporter": "python",
   "pygments_lexer": "ipython3",
   "version": "3.8.3"
  }
 },
 "nbformat": 4,
 "nbformat_minor": 4
}
